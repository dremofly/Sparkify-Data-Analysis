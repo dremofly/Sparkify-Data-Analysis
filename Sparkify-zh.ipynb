{
 "cells": [
  {
   "cell_type": "markdown",
   "metadata": {},
   "source": [
    "# Sparkify 项目 Workspace\n",
    "这个 Workspace 包括一个迷你的子数据集（128MB），是完整数据集（12GB）的一个子集。在将你的项目部署到云上之前，你可以自由使用 Workspace 来创建你的项目或用Spark来探索这个较小数据集。设置 Spark 集群的指南可以在选修 Spark 课程的内容里找到。\n",
    "\n",
    "你可以依照下面的步骤进行项目的数据分析和模型搭建部分。"
   ]
  },
  {
   "cell_type": "code",
   "execution_count": 1,
   "metadata": {},
   "outputs": [],
   "source": [
    "import datetime\n",
    "import time\n",
    "import numpy as np\n",
    "import pandas as pd\n",
    "import matplotlib.pyplot as plt\n",
    "import seaborn as sns\n",
    "\n",
    "from pyspark import SparkContext, SparkConf\n",
    "from pyspark.sql import SparkSession\n",
    "from pyspark.sql import Window\n",
    "from pyspark.sql.functions import udf, col, concat, count, lit, avg, lag, first, last, when\n",
    "from pyspark.sql.functions import min, max, sum, round\n",
    "from pyspark.sql.types import IntegerType, DateType, TimestampType\n",
    "\n",
    "from pyspark.ml import Pipeline\n",
    "from pyspark.ml.feature import VectorAssembler, Normalizer, StandardScaler\n",
    "from pyspark.ml.regression import LinearRegression\n",
    "from pyspark.ml.classification import LogisticRegression, RandomForestClassifier, GBTClassifier\n",
    "from pyspark.ml.clustering import KMeans\n",
    "from pyspark.ml.tuning import CrossValidator, ParamGridBuilder\n",
    "from pyspark.ml.evaluation import BinaryClassificationEvaluator, Evaluator"
   ]
  },
  {
   "cell_type": "code",
   "execution_count": 2,
   "metadata": {},
   "outputs": [],
   "source": [
    "# create a Spark session\n",
    "spark = SparkSession.builder \\\n",
    "    .master(\"local\") \\\n",
    "    .appName(\"Sparkify\") \\\n",
    "    .getOrCreate()"
   ]
  },
  {
   "cell_type": "markdown",
   "metadata": {},
   "source": [
    "# 加载和清洗数据\n",
    "在这个 Workspace 中，小数据集的名称是 `mini_sparkify_event_data.json`.加载和清洗数据集，检查是否有无效或缺失数据——例如，没有userid或sessionid的数据。 "
   ]
  },
  {
   "cell_type": "code",
   "execution_count": 3,
   "metadata": {},
   "outputs": [
    {
     "data": {
      "text/plain": [
       "DataFrame[artist: string, auth: string, firstName: string, gender: string, itemInSession: bigint, lastName: string, length: double, level: string, location: string, method: string, page: string, registration: bigint, sessionId: bigint, song: string, status: bigint, ts: bigint, userAgent: string, userId: string]"
      ]
     },
     "execution_count": 3,
     "metadata": {},
     "output_type": "execute_result"
    }
   ],
   "source": [
    "# 加载数据\n",
    "filename = 'mini_sparkify_event_data.json'\n",
    "df = spark.read.json(filename)\n",
    "df.persist()"
   ]
  },
  {
   "cell_type": "markdown",
   "metadata": {},
   "source": [
    "从上面加载的数据可以看出DataFrame里面包含哪些columns。\n",
    "* artist (string)\n",
    "* auth (string)\n",
    "* firstName (string)\n",
    "* gender (string)\n",
    "* itemInSession (bigint)\n",
    "* lastName (string)\n",
    "* length (double)\n",
    "* level (string)\n",
    "* location (string)\n",
    "* method (string)\n",
    "* page (string)\n",
    "* registration (bigint)\n",
    "* sessionId (bigint)\n",
    "* song (string)\n",
    "* status (bigint)\n",
    "* ts (bigint)\n",
    "* userAgen (string)\n",
    "* userId (string)"
   ]
  },
  {
   "cell_type": "markdown",
   "metadata": {},
   "source": [
    "# 探索性数据分析\n",
    "当你使用完整数据集时，通过加载小数据集，在 Spark 中完成基础操作来实现探索性数据分析。在这个 Workspace 中，我们已经提供给你一个你可以探索的小数据集。\n",
    "\n",
    "### 定义客户流失\n",
    "\n",
    "在你完成初步分析之后，创建一列 `Churn` 作为模型的标签。我建议你使用 `Cancellation Confirmation` 事件来定义客户流失，该事件在付费或免费客户身上都有发生。作为一个奖励任务，你也可以深入了解 `Downgrade` 事件。\n",
    "\n",
    "### 探索数据\n",
    "你定义好客户流失后，就可以执行一些探索性数据分析，观察留存用户和流失用户的行为。你可以首先把这两类用户的数据聚合到一起，观察固定时间内某个特定动作出现的次数或者播放音乐的数量。"
   ]
  },
  {
   "cell_type": "code",
   "execution_count": 4,
   "metadata": {},
   "outputs": [
    {
     "name": "stdout",
     "output_type": "stream",
     "text": [
      "root\n",
      " |-- artist: string (nullable = true)\n",
      " |-- auth: string (nullable = true)\n",
      " |-- firstName: string (nullable = true)\n",
      " |-- gender: string (nullable = true)\n",
      " |-- itemInSession: long (nullable = true)\n",
      " |-- lastName: string (nullable = true)\n",
      " |-- length: double (nullable = true)\n",
      " |-- level: string (nullable = true)\n",
      " |-- location: string (nullable = true)\n",
      " |-- method: string (nullable = true)\n",
      " |-- page: string (nullable = true)\n",
      " |-- registration: long (nullable = true)\n",
      " |-- sessionId: long (nullable = true)\n",
      " |-- song: string (nullable = true)\n",
      " |-- status: long (nullable = true)\n",
      " |-- ts: long (nullable = true)\n",
      " |-- userAgent: string (nullable = true)\n",
      " |-- userId: string (nullable = true)\n",
      "\n"
     ]
    }
   ],
   "source": [
    "df.printSchema()"
   ]
  },
  {
   "cell_type": "code",
   "execution_count": 5,
   "metadata": {},
   "outputs": [
    {
     "data": {
      "text/plain": [
       "[('artist', 'string'),\n",
       " ('auth', 'string'),\n",
       " ('firstName', 'string'),\n",
       " ('gender', 'string'),\n",
       " ('itemInSession', 'bigint'),\n",
       " ('lastName', 'string'),\n",
       " ('length', 'double'),\n",
       " ('level', 'string'),\n",
       " ('location', 'string'),\n",
       " ('method', 'string'),\n",
       " ('page', 'string'),\n",
       " ('registration', 'bigint'),\n",
       " ('sessionId', 'bigint'),\n",
       " ('song', 'string'),\n",
       " ('status', 'bigint'),\n",
       " ('ts', 'bigint'),\n",
       " ('userAgent', 'string'),\n",
       " ('userId', 'string')]"
      ]
     },
     "execution_count": 5,
     "metadata": {},
     "output_type": "execute_result"
    }
   ],
   "source": [
    "df.dtypes"
   ]
  },
  {
   "cell_type": "code",
   "execution_count": 6,
   "metadata": {},
   "outputs": [
    {
     "data": {
      "text/plain": [
       "(286500, 18)"
      ]
     },
     "execution_count": 6,
     "metadata": {},
     "output_type": "execute_result"
    }
   ],
   "source": [
    "# 查看数据集的大小\n",
    "df.count(),len(df.columns)"
   ]
  },
  {
   "cell_type": "markdown",
   "metadata": {},
   "source": [
    "数据集中的用户信息"
   ]
  },
  {
   "cell_type": "code",
   "execution_count": 7,
   "metadata": {},
   "outputs": [
    {
     "data": {
      "text/plain": [
       "226"
      ]
     },
     "execution_count": 7,
     "metadata": {},
     "output_type": "execute_result"
    }
   ],
   "source": [
    "# 获取数据集中用户的数量\n",
    "df.select(\"userId\").distinct().count()"
   ]
  },
  {
   "cell_type": "markdown",
   "metadata": {},
   "source": [
    "从这里可以看出一共有226个用户。"
   ]
  },
  {
   "cell_type": "code",
   "execution_count": 8,
   "metadata": {},
   "outputs": [
    {
     "data": {
      "text/plain": [
       "0"
      ]
     },
     "execution_count": 8,
     "metadata": {},
     "output_type": "execute_result"
    }
   ],
   "source": [
    "# 查看userId中是否有缺失值\n",
    "df.where(df.userId.isNull()).count()"
   ]
  },
  {
   "cell_type": "code",
   "execution_count": 9,
   "metadata": {},
   "outputs": [
    {
     "name": "stdout",
     "output_type": "stream",
     "text": [
      "+------+\n",
      "|userId|\n",
      "+------+\n",
      "|      |\n",
      "|    10|\n",
      "|   100|\n",
      "|100001|\n",
      "|100002|\n",
      "|100003|\n",
      "|100004|\n",
      "|100005|\n",
      "|100006|\n",
      "|100007|\n",
      "|100008|\n",
      "|100009|\n",
      "|100010|\n",
      "|100011|\n",
      "|100012|\n",
      "|100013|\n",
      "|100014|\n",
      "|100015|\n",
      "|100016|\n",
      "|100017|\n",
      "+------+\n",
      "only showing top 20 rows\n",
      "\n"
     ]
    }
   ],
   "source": [
    "df.select(['userId']).drop_duplicates().sort('userId').show()"
   ]
  },
  {
   "cell_type": "markdown",
   "metadata": {},
   "source": [
    "发现userId里面存在空值。"
   ]
  },
  {
   "cell_type": "code",
   "execution_count": 10,
   "metadata": {},
   "outputs": [
    {
     "data": {
      "text/plain": [
       "8346"
      ]
     },
     "execution_count": 10,
     "metadata": {},
     "output_type": "execute_result"
    }
   ],
   "source": [
    "df.where(df['userId']==\"\").count()"
   ]
  },
  {
   "cell_type": "markdown",
   "metadata": {},
   "source": [
    "userId变量存在8364个空值。"
   ]
  },
  {
   "cell_type": "code",
   "execution_count": 11,
   "metadata": {},
   "outputs": [
    {
     "name": "stdout",
     "output_type": "stream",
     "text": [
      "+----------+-----+\n",
      "|      auth|count|\n",
      "+----------+-----+\n",
      "|Logged Out| 8249|\n",
      "|     Guest|   97|\n",
      "+----------+-----+\n",
      "\n"
     ]
    }
   ],
   "source": [
    "df.where(df['userId']==\"\").groupby('auth').count().show()"
   ]
  },
  {
   "cell_type": "markdown",
   "metadata": {},
   "source": [
    "从上面两个cell可以看出，当数据的userId缺失的时候，auth属于登出(Logged Out)或者游客状态(Guest)。"
   ]
  },
  {
   "cell_type": "markdown",
   "metadata": {},
   "source": [
    "用户信息除了firstName, lastName, userId这些静态的变量，还有有一个变量是会变化的，那就是level变量，它会根据用户的订阅状态变化。"
   ]
  },
  {
   "cell_type": "code",
   "execution_count": 12,
   "metadata": {},
   "outputs": [
    {
     "name": "stdout",
     "output_type": "stream",
     "text": [
      "+-----+------+\n",
      "|level| count|\n",
      "+-----+------+\n",
      "| free| 58338|\n",
      "| paid|228162|\n",
      "+-----+------+\n",
      "\n"
     ]
    }
   ],
   "source": [
    "df.groupby('level').count().show()"
   ]
  },
  {
   "cell_type": "code",
   "execution_count": 13,
   "metadata": {},
   "outputs": [
    {
     "name": "stdout",
     "output_type": "stream",
     "text": [
      "+------+----------+----------+\n",
      "|userId|free level|paid level|\n",
      "+------+----------+----------+\n",
      "|100010|       381|         0|\n",
      "|200002|       120|         0|\n",
      "|   125|        11|         0|\n",
      "|    51|         0|         0|\n",
      "|   124|         0|         0|\n",
      "+------+----------+----------+\n",
      "only showing top 5 rows\n",
      "\n"
     ]
    }
   ],
   "source": [
    "level = df.where(df['userId']!=\"\") \\\n",
    "    .groupby(['userId']) \\\n",
    "    .agg(sum(when(col('level')=='free', 1).otherwise(0)).alias('free level'),\n",
    "        sum(when(col('level')=='paied',1).otherwise(0)).alias('paid level'))\n",
    "\n",
    "level.show(5)"
   ]
  },
  {
   "cell_type": "code",
   "execution_count": 14,
   "metadata": {},
   "outputs": [
    {
     "data": {
      "text/plain": [
       "0"
      ]
     },
     "execution_count": 14,
     "metadata": {},
     "output_type": "execute_result"
    }
   ],
   "source": [
    "df.where(df.page.isNull()).count()"
   ]
  },
  {
   "cell_type": "markdown",
   "metadata": {},
   "source": [
    "page没有空值。"
   ]
  },
  {
   "cell_type": "code",
   "execution_count": 15,
   "metadata": {},
   "outputs": [
    {
     "name": "stdout",
     "output_type": "stream",
     "text": [
      "+--------------------+------+\n",
      "|                page| count|\n",
      "+--------------------+------+\n",
      "|            NextSong|228108|\n",
      "|                Home| 14457|\n",
      "|           Thumbs Up| 12551|\n",
      "|     Add to Playlist|  6526|\n",
      "|          Add Friend|  4277|\n",
      "|         Roll Advert|  3933|\n",
      "|               Login|  3241|\n",
      "|              Logout|  3226|\n",
      "|         Thumbs Down|  2546|\n",
      "|           Downgrade|  2055|\n",
      "|                Help|  1726|\n",
      "|            Settings|  1514|\n",
      "|               About|   924|\n",
      "|             Upgrade|   499|\n",
      "|       Save Settings|   310|\n",
      "|               Error|   258|\n",
      "|      Submit Upgrade|   159|\n",
      "|    Submit Downgrade|    63|\n",
      "|              Cancel|    52|\n",
      "|Cancellation Conf...|    52|\n",
      "|            Register|    18|\n",
      "| Submit Registration|     5|\n",
      "+--------------------+------+\n",
      "\n"
     ]
    }
   ],
   "source": [
    "# page的分布\n",
    "df.groupby('page').count().sort('count', ascending=False).show(100) # 100是为了能够显示所有的"
   ]
  },
  {
   "cell_type": "code",
   "execution_count": 16,
   "metadata": {},
   "outputs": [
    {
     "name": "stdout",
     "output_type": "stream",
     "text": [
      "+------+-------------+---------+---------+--------------------+\n",
      "|userId|           ts|sessionId|     auth|                page|\n",
      "+------+-------------+---------+---------+--------------------+\n",
      "|    18|1538943990000|      514|Cancelled|Cancellation Conf...|\n",
      "|    32|1539033046000|      540|Cancelled|Cancellation Conf...|\n",
      "|   125|1539318918000|      174|Cancelled|Cancellation Conf...|\n",
      "|   105|1539375441000|      508|Cancelled|Cancellation Conf...|\n",
      "|    17|1539465584000|      797|Cancelled|Cancellation Conf...|\n",
      "+------+-------------+---------+---------+--------------------+\n",
      "only showing top 5 rows\n",
      "\n"
     ]
    }
   ],
   "source": [
    "df.where(df['auth']=='Cancelled').select(['userId', 'ts', 'sessionId', 'auth', 'page']).show(5)"
   ]
  },
  {
   "cell_type": "code",
   "execution_count": 17,
   "metadata": {},
   "outputs": [
    {
     "name": "stdout",
     "output_type": "stream",
     "text": [
      "+--------------------+\n",
      "|                page|\n",
      "+--------------------+\n",
      "|Cancellation Conf...|\n",
      "+--------------------+\n",
      "\n"
     ]
    }
   ],
   "source": [
    "df.where(col(\"auth\")==\"Cancelled\").select(\"page\").distinct().show()"
   ]
  },
  {
   "cell_type": "markdown",
   "metadata": {},
   "source": [
    "从上面的cell可以看出auth为\"Cancelled\"的时候，page变量都是\"Cancellation Confirmation\"。"
   ]
  },
  {
   "cell_type": "code",
   "execution_count": 18,
   "metadata": {},
   "outputs": [
    {
     "name": "stdout",
     "output_type": "stream",
     "text": [
      "+-------------------------------------+\n",
      "|sum(CAST((sessionId IS NULL) AS INT))|\n",
      "+-------------------------------------+\n",
      "|                                    0|\n",
      "+-------------------------------------+\n",
      "\n"
     ]
    }
   ],
   "source": [
    "#df.select(*(sum(col(c).isNull().cast(\"int\")).alias(c) for c in df.columns)).show()\n",
    "df.select(sum(col(\"sessionId\").isNull().cast(\"int\"))).show()"
   ]
  },
  {
   "cell_type": "markdown",
   "metadata": {},
   "source": [
    "从上面的cell可以看出变量sessionId没有缺失值。"
   ]
  },
  {
   "cell_type": "code",
   "execution_count": 19,
   "metadata": {},
   "outputs": [
    {
     "name": "stdout",
     "output_type": "stream",
     "text": [
      "+------+---------+-------------+-------------+--------------+\n",
      "|userId|sessionId|       ts max|       ts min|session length|\n",
      "+------+---------+-------------+-------------+--------------+\n",
      "|    91|     1840|1542852334000|1542585029000|      267305.0|\n",
      "|   115|      316|1538924417000|1538701498000|      222919.0|\n",
      "|   101|      635|1539263366000|1539065365000|      198001.0|\n",
      "|   120|      731|1539793336000|1539630700000|      162636.0|\n",
      "|    61|      529|1539247693000|1539096212000|      151481.0|\n",
      "+------+---------+-------------+-------------+--------------+\n",
      "only showing top 5 rows\n",
      "\n"
     ]
    }
   ],
   "source": [
    "# 查看session在系统中的存在时间的分布\n",
    "session_last_time = df.where(df['userId']!=\"\") \\\n",
    "    .groupby(['userId', 'sessionId']).agg(max('ts').alias('ts max'),\n",
    "                                        min('ts').alias('ts min'),\n",
    "                                        ((max('ts')-min('ts'))/1000).alias('session length'))\\\n",
    "    .sort('session length', ascending=False).show(5)"
   ]
  },
  {
   "cell_type": "code",
   "execution_count": 20,
   "metadata": {},
   "outputs": [
    {
     "name": "stdout",
     "output_type": "stream",
     "text": [
      "+------+--------------------+------+\n",
      "|method|                page| count|\n",
      "+------+--------------------+------+\n",
      "|   GET|               Error|   258|\n",
      "|   GET|                Help|  1726|\n",
      "|   GET|            Settings|  1514|\n",
      "|   GET|                Home| 14457|\n",
      "|   GET|Cancellation Conf...|    52|\n",
      "|   GET|            Register|    18|\n",
      "|   GET|           Downgrade|  2055|\n",
      "|   GET|         Roll Advert|  3933|\n",
      "|   GET|               About|   924|\n",
      "|   GET|             Upgrade|   499|\n",
      "|   PUT|              Cancel|    52|\n",
      "|   PUT|              Logout|  3226|\n",
      "|   PUT|     Add to Playlist|  6526|\n",
      "|   PUT|          Add Friend|  4277|\n",
      "|   PUT| Submit Registration|     5|\n",
      "|   PUT|      Submit Upgrade|   159|\n",
      "|   PUT|           Thumbs Up| 12551|\n",
      "|   PUT|    Submit Downgrade|    63|\n",
      "|   PUT|               Login|  3241|\n",
      "|   PUT|            NextSong|228108|\n",
      "|   PUT|         Thumbs Down|  2546|\n",
      "|   PUT|       Save Settings|   310|\n",
      "+------+--------------------+------+\n",
      "\n"
     ]
    }
   ],
   "source": [
    "# 查看method和page的关系\n",
    "df.groupby(['method', 'page']).count().sort('method').show(22)"
   ]
  },
  {
   "cell_type": "code",
   "execution_count": 21,
   "metadata": {},
   "outputs": [
    {
     "name": "stdout",
     "output_type": "stream",
     "text": [
      "+------+--------------------+------+\n",
      "|status|                page| count|\n",
      "+------+--------------------+------+\n",
      "|   200|             Upgrade|   499|\n",
      "|   200|     Add to Playlist|  6526|\n",
      "|   200|Cancellation Conf...|    52|\n",
      "|   200|            NextSong|228108|\n",
      "|   200|         Roll Advert|  3933|\n",
      "|   200|            Register|    18|\n",
      "|   200|                Help|  1726|\n",
      "|   200|            Settings|  1514|\n",
      "|   200|               About|   924|\n",
      "|   200|           Downgrade|  2055|\n",
      "|   200|                Home| 14457|\n",
      "|   307|           Thumbs Up| 12551|\n",
      "|   307|              Logout|  3226|\n",
      "|   307|         Thumbs Down|  2546|\n",
      "|   307|               Login|  3241|\n",
      "|   307|    Submit Downgrade|    63|\n",
      "|   307|       Save Settings|   310|\n",
      "|   307|              Cancel|    52|\n",
      "|   307|      Submit Upgrade|   159|\n",
      "|   307|          Add Friend|  4277|\n",
      "|   307| Submit Registration|     5|\n",
      "|   404|               Error|   258|\n",
      "+------+--------------------+------+\n",
      "\n"
     ]
    }
   ],
   "source": [
    "# status和page的分布\n",
    "df.groupby(['status','page']).count().sort('status').show(22)"
   ]
  },
  {
   "cell_type": "markdown",
   "metadata": {},
   "source": [
    "### 可视化"
   ]
  },
  {
   "cell_type": "code",
   "execution_count": 22,
   "metadata": {},
   "outputs": [],
   "source": [
    "gender_dist = df.select(['userId', 'gender'])\\\n",
    "    .where(df.userId != \"\") \\\n",
    "    .dropDuplicates(['userId']).groupby('gender').count().toPandas()\n",
    "gender_dist = gender_dist.set_index('gender')"
   ]
  },
  {
   "cell_type": "code",
   "execution_count": 23,
   "metadata": {},
   "outputs": [
    {
     "data": {
      "text/html": [
       "<div>\n",
       "<style scoped>\n",
       "    .dataframe tbody tr th:only-of-type {\n",
       "        vertical-align: middle;\n",
       "    }\n",
       "\n",
       "    .dataframe tbody tr th {\n",
       "        vertical-align: top;\n",
       "    }\n",
       "\n",
       "    .dataframe thead th {\n",
       "        text-align: right;\n",
       "    }\n",
       "</style>\n",
       "<table border=\"1\" class=\"dataframe\">\n",
       "  <thead>\n",
       "    <tr style=\"text-align: right;\">\n",
       "      <th></th>\n",
       "      <th>count</th>\n",
       "    </tr>\n",
       "    <tr>\n",
       "      <th>gender</th>\n",
       "      <th></th>\n",
       "    </tr>\n",
       "  </thead>\n",
       "  <tbody>\n",
       "    <tr>\n",
       "      <th>F</th>\n",
       "      <td>104</td>\n",
       "    </tr>\n",
       "    <tr>\n",
       "      <th>M</th>\n",
       "      <td>121</td>\n",
       "    </tr>\n",
       "  </tbody>\n",
       "</table>\n",
       "</div>"
      ],
      "text/plain": [
       "        count\n",
       "gender       \n",
       "F         104\n",
       "M         121"
      ]
     },
     "execution_count": 23,
     "metadata": {},
     "output_type": "execute_result"
    }
   ],
   "source": [
    "gender_dist.head()"
   ]
  },
  {
   "cell_type": "code",
   "execution_count": 24,
   "metadata": {},
   "outputs": [
    {
     "data": {
      "text/plain": [
       "<matplotlib.axes._subplots.AxesSubplot at 0x1a1b8b3e80>"
      ]
     },
     "execution_count": 24,
     "metadata": {},
     "output_type": "execute_result"
    },
    {
     "data": {
      "image/png": "[encoded data removed]",
      "text/plain": [
       "<Figure size 432x288 with 1 Axes>"
      ]
     },
     "metadata": {
      "needs_background": "light"
     },
     "output_type": "display_data"
    }
   ],
   "source": [
    "gender_dist.plot.bar()"
   ]
  },
  {
   "cell_type": "markdown",
   "metadata": {},
   "source": [
    "# 特征工程\n",
    "熟悉了数据之后，就可以构建你认为会对训练模型帮助最大的特征。要处理完整数据集，你可以按照下述步骤：\n",
    "- 写一个脚本来从小数据集中提取你需要的特征\n",
    "- 确保你的脚本可以拓展到大数据集上，使用之前教过的最佳实践原则\n",
    "- 在完整数据集上运行你的脚本，按运行情况调试代码\n",
    "\n",
    "如果是在教室的 workspace，你可以直接用里面提供的小数据集来提取特征。确保当你开始使用 Spark 集群的时候，把上述的成果迁移到大数据集上。"
   ]
  },
  {
   "cell_type": "markdown",
   "metadata": {},
   "source": [
    "首先对时间进行转换，以便于观察。"
   ]
  },
  {
   "cell_type": "code",
   "execution_count": 25,
   "metadata": {},
   "outputs": [],
   "source": [
    "# 对时间进行转换\n",
    "df = df.withColumn('tsDate', (df['ts']/1000).cast(TimestampType()))\n",
    "df = df.withColumn('registrationDate', (df['registration']/1000).cast(TimestampType()))"
   ]
  },
  {
   "cell_type": "code",
   "execution_count": 26,
   "metadata": {},
   "outputs": [
    {
     "name": "stdout",
     "output_type": "stream",
     "text": [
      "+-------------+-------------------+-------------+-------------------+\n",
      "|           ts|             tsDate| registration|   registrationDate|\n",
      "+-------------+-------------------+-------------+-------------------+\n",
      "|1538352117000|2018-10-01 08:01:57|1538173362000|2018-09-29 06:22:42|\n",
      "|1538352180000|2018-10-01 08:03:00|1538331630000|2018-10-01 02:20:30|\n",
      "|1538352394000|2018-10-01 08:06:34|1538173362000|2018-09-29 06:22:42|\n",
      "|1538352416000|2018-10-01 08:06:56|1538331630000|2018-10-01 02:20:30|\n",
      "|1538352676000|2018-10-01 08:11:16|1538173362000|2018-09-29 06:22:42|\n",
      "+-------------+-------------------+-------------+-------------------+\n",
      "only showing top 5 rows\n",
      "\n"
     ]
    }
   ],
   "source": [
    "df.select(['ts', 'tsDate', 'registration','registrationDate']).sort('ts').show(5)"
   ]
  },
  {
   "cell_type": "code",
   "execution_count": 27,
   "metadata": {},
   "outputs": [
    {
     "name": "stdout",
     "output_type": "stream",
     "text": [
      "+-------------+-------------------+-------------+-------------------+\n",
      "|           ts|             tsDate| registration|   registrationDate|\n",
      "+-------------+-------------------+-------------+-------------------+\n",
      "|1543799476000|2018-12-03 09:11:16|1529934689000|2018-06-25 21:51:29|\n",
      "|1543622579000|2018-12-01 08:02:59|1533670697000|2018-08-08 03:38:17|\n",
      "|1543622432000|2018-12-01 08:00:32|1540940608000|2018-10-31 07:03:28|\n",
      "|1543622411000|2018-12-01 08:00:11|1538336771000|2018-10-01 03:46:11|\n",
      "|1543622398000|2018-12-01 07:59:58|1538336771000|2018-10-01 03:46:11|\n",
      "+-------------+-------------------+-------------+-------------------+\n",
      "only showing top 5 rows\n",
      "\n"
     ]
    }
   ],
   "source": [
    "df.select(['ts', 'tsDate', 'registration','registrationDate']).sort('ts', ascending=False).show(5)"
   ]
  },
  {
   "cell_type": "code",
   "execution_count": 28,
   "metadata": {},
   "outputs": [
    {
     "name": "stdout",
     "output_type": "stream",
     "text": [
      "+-------------+-------------------+-------------+-------------------+\n",
      "|           ts|             tsDate| registration|   registrationDate|\n",
      "+-------------+-------------------+-------------+-------------------+\n",
      "|1538352117000|2018-10-01 08:01:57|1538173362000|2018-09-29 06:22:42|\n",
      "|1538352180000|2018-10-01 08:03:00|1538331630000|2018-10-01 02:20:30|\n",
      "|1538352394000|2018-10-01 08:06:34|1538173362000|2018-09-29 06:22:42|\n",
      "|1538352416000|2018-10-01 08:06:56|1538331630000|2018-10-01 02:20:30|\n",
      "|1538352676000|2018-10-01 08:11:16|1538173362000|2018-09-29 06:22:42|\n",
      "+-------------+-------------------+-------------+-------------------+\n",
      "only showing top 5 rows\n",
      "\n"
     ]
    }
   ],
   "source": [
    "df.select(['ts','tsDate','registration','registrationDate']).sort('ts').show(5)"
   ]
  },
  {
   "cell_type": "code",
   "execution_count": 29,
   "metadata": {},
   "outputs": [
    {
     "name": "stdout",
     "output_type": "stream",
     "text": [
      "+------+---------+-------------+-------------------+-------------+---------+\n",
      "|userId|sessionId|           ts|             tsDate|   previousts|     diff|\n",
      "+------+---------+-------------+-------------------+-------------+---------+\n",
      "|      |      164|1539944514000|2018-10-19 18:21:54|         null|     null|\n",
      "|      |      164|1541186397000|2018-11-03 03:19:57|1539944514000|1241883.0|\n",
      "|      |      164|1541186398000|2018-11-03 03:19:58|1541186397000|      1.0|\n",
      "|      |      268|1538424263000|2018-10-02 04:04:23|         null|     null|\n",
      "|      |      268|1540891842000|2018-10-30 17:30:42|1538424263000|2467579.0|\n",
      "|      |      268|1540891843000|2018-10-30 17:30:43|1540891842000|      1.0|\n",
      "|      |      268|1540905839000|2018-10-30 21:23:59|1540891843000|  13996.0|\n",
      "|      |      268|1540905840000|2018-10-30 21:24:00|1540905839000|      1.0|\n",
      "|      |      268|1540907987000|2018-10-30 21:59:47|1540905840000|   2147.0|\n",
      "|      |      268|1540908375000|2018-10-30 22:06:15|1540907987000|    388.0|\n",
      "|      |      268|1540908376000|2018-10-30 22:06:16|1540908375000|      1.0|\n",
      "|      |      268|1540926480000|2018-10-31 03:08:00|1540908376000|  18104.0|\n",
      "|      |      268|1540926481000|2018-10-31 03:08:01|1540926480000|      1.0|\n",
      "|      |      268|1541139040000|2018-11-02 14:10:40|1540926481000| 212559.0|\n",
      "|      |      268|1541141260000|2018-11-02 14:47:40|1541139040000|   2220.0|\n",
      "|      |      268|1541141261000|2018-11-02 14:47:41|1541141260000|      1.0|\n",
      "|      |      268|1541142703000|2018-11-02 15:11:43|1541141261000|   1442.0|\n",
      "|      |      268|1541142704000|2018-11-02 15:11:44|1541142703000|      1.0|\n",
      "|      |      565|1539164017000|2018-10-10 17:33:37|         null|     null|\n",
      "|      |      565|1539164040000|2018-10-10 17:34:00|1539164017000|     23.0|\n",
      "+------+---------+-------------+-------------------+-------------+---------+\n",
      "only showing top 20 rows\n",
      "\n"
     ]
    }
   ],
   "source": [
    "# 下次登陆的时候可能还是一个sessionId，记录这个sessionId上一次的ts和session的长度\n",
    "\n",
    "windowsession = Window.partitionBy(['userId','sessionId']).orderBy('ts')\n",
    "\n",
    "df = df.withColumn(\"previousts\", lag(df.ts).over(windowsession))\n",
    "#temp.select(['userId', 'sessionId', 'ts', 'tsDate',\"previousts\"]).show(20)\n",
    "df = df.withColumn(\"diff\",(df.ts - df.previousts)/1000)\n",
    "df.select(['userId', 'sessionId', 'ts', 'tsDate',\"previousts\", \"diff\"]).show(20)"
   ]
  },
  {
   "cell_type": "markdown",
   "metadata": {},
   "source": [
    "## 将数据集转换成用户级别的变量\n",
    "为了对数据集进行转换，首先我们需要设定一个观察的时间，在这个时间的内的数据会被记录。"
   ]
  },
  {
   "cell_type": "code",
   "execution_count": 30,
   "metadata": {},
   "outputs": [],
   "source": [
    "# 观察开始和结束的时间\n",
    "# 根据上面的cell，可以选用观测时间为 2018-10-01到2018-12-01\n",
    "obs_start_default = 1538352000000 # 北京时间 2018-10-01 00:08:00\n",
    "obs_end_default = 1543622400000 # 北京时间 2018-12-01 00:08:00"
   ]
  },
  {
   "cell_type": "code",
   "execution_count": 31,
   "metadata": {},
   "outputs": [
    {
     "name": "stdout",
     "output_type": "stream",
     "text": [
      "+------+-------------------+\n",
      "|userId|   registrationDate|\n",
      "+------+-------------------+\n",
      "|   156|2018-11-26 23:49:14|\n",
      "|   153|2018-11-03 13:42:17|\n",
      "|   154|2018-11-04 02:00:21|\n",
      "|   155|2018-11-05 06:27:50|\n",
      "|   152|2018-10-31 07:03:28|\n",
      "+------+-------------------+\n",
      "\n"
     ]
    }
   ],
   "source": [
    "df.where(df['registration'] > obs_start_default).select(['userId', 'registrationDate']).dropDuplicates().show()"
   ]
  },
  {
   "cell_type": "markdown",
   "metadata": {},
   "source": [
    "有些user可能是在obs_start_default之后注册的。"
   ]
  },
  {
   "cell_type": "code",
   "execution_count": 32,
   "metadata": {},
   "outputs": [
    {
     "name": "stdout",
     "output_type": "stream",
     "text": [
      "+------+---------+-----+-------------------+-------------------+\n",
      "|userId|sessionId| auth|               page|             tsDate|\n",
      "+------+---------+-----+-------------------+-------------------+\n",
      "|      |     1402|Guest|Submit Registration|2018-10-30 14:59:07|\n",
      "|      |     1506|Guest|Submit Registration|2018-11-02 23:13:19|\n",
      "|      |      154|Guest|Submit Registration|2018-11-02 23:55:56|\n",
      "|      |     1719|Guest|Submit Registration|2018-11-09 05:10:33|\n",
      "|      |     2288|Guest|Submit Registration|2018-11-27 07:12:49|\n",
      "+------+---------+-----+-------------------+-------------------+\n",
      "\n"
     ]
    }
   ],
   "source": [
    "df.select(['userId', 'sessionId', 'auth','page', 'tsDate']).where(df.page=='Submit Registration').show()"
   ]
  },
  {
   "cell_type": "markdown",
   "metadata": {},
   "source": [
    "可以看到submit Registration页面一共有五个。这里面的userId可能就有上面对应的。"
   ]
  },
  {
   "cell_type": "code",
   "execution_count": 33,
   "metadata": {},
   "outputs": [],
   "source": [
    "windowsession = Window.partitionBy('sessionId').orderBy('ts')\n",
    "# lag返回偏移行的值\n",
    "df = df.withColumn('lagged_page', lag(df.page).over(windowsession))"
   ]
  },
  {
   "cell_type": "code",
   "execution_count": 34,
   "metadata": {},
   "outputs": [
    {
     "name": "stdout",
     "output_type": "stream",
     "text": [
      "+------+---------+-------------------+-------------------+---------+\n",
      "|userId|     auth|        lagged_page|             tsDate|sessionId|\n",
      "+------+---------+-------------------+-------------------+---------+\n",
      "|   156|Logged In|Submit Registration|2018-11-27 07:14:00|     2288|\n",
      "|   154|Logged In|Submit Registration|2018-11-02 23:15:35|     1506|\n",
      "|   152|Logged In|Submit Registration|2018-10-30 14:59:09|     1402|\n",
      "|   155|Logged In|Submit Registration|2018-11-02 23:56:25|      154|\n",
      "|   153|Logged In|Submit Registration|2018-11-09 05:11:10|     1719|\n",
      "+------+---------+-------------------+-------------------+---------+\n",
      "\n"
     ]
    }
   ],
   "source": [
    "df.where(df.lagged_page == \"Submit Registration\").select(['userId','auth','lagged_page','tsDate','sessionId']).show()"
   ]
  },
  {
   "cell_type": "code",
   "execution_count": 35,
   "metadata": {},
   "outputs": [
    {
     "name": "stdout",
     "output_type": "stream",
     "text": [
      "+------+---------+---------------+---------------+-------------------+---------+\n",
      "|userId|     auth|    lagged_page|           page|             tsDate|sessionId|\n",
      "+------+---------+---------------+---------------+-------------------+---------+\n",
      "|    27|Logged In|           null|           Home|2018-10-01 21:25:48|       26|\n",
      "|    27|Logged In|           Home|       NextSong|2018-10-01 21:26:18|       26|\n",
      "|    27|Logged In|       NextSong|    Roll Advert|2018-10-01 21:26:58|       26|\n",
      "|    27|Logged In|    Roll Advert|       NextSong|2018-10-01 21:29:36|       26|\n",
      "|    27|Logged In|       NextSong|       NextSong|2018-10-01 21:32:31|       26|\n",
      "|    27|Logged In|       NextSong|       NextSong|2018-10-01 21:36:44|       26|\n",
      "|    27|Logged In|       NextSong|    Thumbs Down|2018-10-01 21:36:45|       26|\n",
      "|    27|Logged In|    Thumbs Down|       NextSong|2018-10-01 21:42:16|       26|\n",
      "|    27|Logged In|       NextSong|       NextSong|2018-10-01 21:47:46|       26|\n",
      "|    27|Logged In|       NextSong|Add to Playlist|2018-10-01 21:48:14|       26|\n",
      "|    27|Logged In|Add to Playlist|       NextSong|2018-10-01 21:51:38|       26|\n",
      "|    27|Logged In|       NextSong|      Thumbs Up|2018-10-01 21:51:39|       26|\n",
      "|    27|Logged In|      Thumbs Up|       NextSong|2018-10-01 21:56:36|       26|\n",
      "|    27|Logged In|       NextSong|Add to Playlist|2018-10-01 21:57:20|       26|\n",
      "|    27|Logged In|Add to Playlist|       NextSong|2018-10-01 22:00:14|       26|\n",
      "|    27|Logged In|       NextSong|           Home|2018-10-01 22:00:23|       26|\n",
      "|    27|Logged In|           Home|       NextSong|2018-10-01 22:04:52|       26|\n",
      "|    27|Logged In|       NextSong|       NextSong|2018-10-01 22:07:51|       26|\n",
      "|    27|Logged In|       NextSong|       NextSong|2018-10-01 22:09:13|       26|\n",
      "|    27|Logged In|       NextSong|       NextSong|2018-10-01 22:13:40|       26|\n",
      "+------+---------+---------------+---------------+-------------------+---------+\n",
      "only showing top 20 rows\n",
      "\n"
     ]
    }
   ],
   "source": [
    "df.select(['userId','auth','lagged_page','page','tsDate','sessionId']).show()"
   ]
  },
  {
   "cell_type": "markdown",
   "metadata": {},
   "source": [
    "从上面的cell可以得到userId的上一个页面"
   ]
  },
  {
   "cell_type": "code",
   "execution_count": 36,
   "metadata": {},
   "outputs": [],
   "source": [
    "windowuser = Window.partitionBy('userId').orderBy('ts').rangeBetween(Window.unboundedPreceding, Window.unboundedFollowing)\n",
    "\n",
    "# 找出哪些是在obs_start_default之后注册的，并且填上他们正确的开始活动的日期\n",
    "df = df.withColumn(\"beforefirstlog\", first(col('lagged_page')).over(windowuser))\n",
    "df = df.withColumn(\"firstlogtime\", first(col('ts')).over(windowuser))\n",
    "df = df.withColumn(\"obsstart\", when(df.beforefirstlog == \"Submit Registration\", df.firstlogtime).otherwise(obs_start_default))"
   ]
  },
  {
   "cell_type": "code",
   "execution_count": 37,
   "metadata": {},
   "outputs": [
    {
     "name": "stdout",
     "output_type": "stream",
     "text": [
      "+------+-------------------+-------------+-------------+-------------+\n",
      "|userId|     beforefirstlog| firstlogtime|     obsstart| registration|\n",
      "+------+-------------------+-------------+-------------+-------------+\n",
      "|   154|Submit Registration|1541171735000|1541171735000|1541268021000|\n",
      "|   154|Submit Registration|1541171735000|1541171735000|1541268021000|\n",
      "|   154|Submit Registration|1541171735000|1541171735000|1541268021000|\n",
      "|   154|Submit Registration|1541171735000|1541171735000|1541268021000|\n",
      "|   154|Submit Registration|1541171735000|1541171735000|1541268021000|\n",
      "|   154|Submit Registration|1541171735000|1541171735000|1541268021000|\n",
      "|   154|Submit Registration|1541171735000|1541171735000|1541268021000|\n",
      "|   154|Submit Registration|1541171735000|1541171735000|1541268021000|\n",
      "|   154|Submit Registration|1541171735000|1541171735000|1541268021000|\n",
      "|   154|Submit Registration|1541171735000|1541171735000|1541268021000|\n",
      "+------+-------------------+-------------+-------------+-------------+\n",
      "only showing top 10 rows\n",
      "\n"
     ]
    }
   ],
   "source": [
    "df.select(['userId', 'beforefirstlog', 'firstlogtime', 'obsstart', 'registration']).where(df.userId==154).show(10)\n",
    "# obs_start_default: 1538352000000"
   ]
  },
  {
   "cell_type": "code",
   "execution_count": 38,
   "metadata": {},
   "outputs": [
    {
     "name": "stdout",
     "output_type": "stream",
     "text": [
      "+------+--------------+-------------+-------------+-------------+\n",
      "|userId|beforefirstlog| firstlogtime|     obsstart| registration|\n",
      "+------+--------------+-------------+-------------+-------------+\n",
      "|100010|          null|1539003534000|1538352000000|1538016340000|\n",
      "|100010|          null|1539003534000|1538352000000|1538016340000|\n",
      "|100010|          null|1539003534000|1538352000000|1538016340000|\n",
      "|100010|          null|1539003534000|1538352000000|1538016340000|\n",
      "|100010|          null|1539003534000|1538352000000|1538016340000|\n",
      "|100010|          null|1539003534000|1538352000000|1538016340000|\n",
      "|100010|          null|1539003534000|1538352000000|1538016340000|\n",
      "|100010|          null|1539003534000|1538352000000|1538016340000|\n",
      "|100010|          null|1539003534000|1538352000000|1538016340000|\n",
      "|100010|          null|1539003534000|1538352000000|1538016340000|\n",
      "+------+--------------+-------------+-------------+-------------+\n",
      "only showing top 10 rows\n",
      "\n"
     ]
    }
   ],
   "source": [
    "df.select(['userId', 'beforefirstlog', 'firstlogtime', 'obsstart', 'registration']).show(10)"
   ]
  },
  {
   "cell_type": "markdown",
   "metadata": {},
   "source": [
    "154是重新矫正过的，10010是正常的。"
   ]
  },
  {
   "cell_type": "code",
   "execution_count": 39,
   "metadata": {},
   "outputs": [],
   "source": [
    "# 找到最后一个页面是\"Cancellation Confirmation\"的用户。\n",
    "df = df.withColumn(\"endstate\", last(col('page')).over(windowuser))\n",
    "df = df.withColumn(\"lastlogtime\", last(col('ts')).over(windowuser))\n",
    "df = df.withColumn(\"obsend\", when(df.endstate == \"Cancellation Confirmation\", df.lastlogtime).otherwise(obs_end_default))"
   ]
  },
  {
   "cell_type": "code",
   "execution_count": 40,
   "metadata": {},
   "outputs": [
    {
     "name": "stdout",
     "output_type": "stream",
     "text": [
      "+------+--------------------+-------------+-------------+\n",
      "|userId|            endstate|  lastlogtime|       obsend|\n",
      "+------+--------------------+-------------+-------------+\n",
      "|   125|Cancellation Conf...|1539318918000|1539318918000|\n",
      "|   125|Cancellation Conf...|1539318918000|1539318918000|\n",
      "|   125|Cancellation Conf...|1539318918000|1539318918000|\n",
      "|   125|Cancellation Conf...|1539318918000|1539318918000|\n",
      "|   125|Cancellation Conf...|1539318918000|1539318918000|\n",
      "|   125|Cancellation Conf...|1539318918000|1539318918000|\n",
      "|   125|Cancellation Conf...|1539318918000|1539318918000|\n",
      "|   125|Cancellation Conf...|1539318918000|1539318918000|\n",
      "|   125|Cancellation Conf...|1539318918000|1539318918000|\n",
      "|   125|Cancellation Conf...|1539318918000|1539318918000|\n",
      "|   125|Cancellation Conf...|1539318918000|1539318918000|\n",
      "|    51|Cancellation Conf...|1539761972000|1539761972000|\n",
      "|    51|Cancellation Conf...|1539761972000|1539761972000|\n",
      "|    51|Cancellation Conf...|1539761972000|1539761972000|\n",
      "|    51|Cancellation Conf...|1539761972000|1539761972000|\n",
      "|    51|Cancellation Conf...|1539761972000|1539761972000|\n",
      "|    51|Cancellation Conf...|1539761972000|1539761972000|\n",
      "|    51|Cancellation Conf...|1539761972000|1539761972000|\n",
      "|    51|Cancellation Conf...|1539761972000|1539761972000|\n",
      "|    51|Cancellation Conf...|1539761972000|1539761972000|\n",
      "+------+--------------------+-------------+-------------+\n",
      "only showing top 20 rows\n",
      "\n"
     ]
    }
   ],
   "source": [
    "df.select(['userId', 'endstate', 'lastlogtime', 'obsend']).where(df['endstate']==\"Cancellation Confirmation\").show()\n",
    "# obs_end_default = 1543622400000 # UTC 2018-12-01 00:00:00"
   ]
  },
  {
   "cell_type": "markdown",
   "metadata": {},
   "source": [
    "从上面可以看出这些user提前结束了，也就是取消了服务。"
   ]
  },
  {
   "cell_type": "code",
   "execution_count": 41,
   "metadata": {},
   "outputs": [],
   "source": [
    "# 计算从obs_start_default开始的时间，以及距离obs_end_default的时间\n",
    "df = df.withColumn(\"timefromstart\", col('ts') - col('obsstart'))\n",
    "df = df.withColumn(\"timebeforeend\", col('obsend') - col('ts'))"
   ]
  },
  {
   "cell_type": "code",
   "execution_count": 42,
   "metadata": {},
   "outputs": [
    {
     "name": "stdout",
     "output_type": "stream",
     "text": [
      "+------+-------------+-------------+---------------+-------------+-------------+-------------+\n",
      "|userId|     obsstart|       obsend|           page|           ts|timefromstart|timebeforeend|\n",
      "+------+-------------+-------------+---------------+-------------+-------------+-------------+\n",
      "|   154|1541171735000|1543622400000|           Home|1541171735000|            0|   2450665000|\n",
      "|   154|1541171735000|1543622400000|       NextSong|1541171738000|         3000|   2450662000|\n",
      "|   154|1541171735000|1543622400000|       NextSong|1541171919000|       184000|   2450481000|\n",
      "|   154|1541171735000|1543622400000|       NextSong|1541172139000|       404000|   2450261000|\n",
      "|   154|1541171735000|1543622400000|       NextSong|1541172419000|       684000|   2449981000|\n",
      "|   154|1541171735000|1543622400000|       NextSong|1541172746000|      1011000|   2449654000|\n",
      "|   154|1541171735000|1543622400000|    Roll Advert|1541172783000|      1048000|   2449617000|\n",
      "|   154|1541171735000|1543622400000|       NextSong|1541172989000|      1254000|   2449411000|\n",
      "|   154|1541171735000|1543622400000|       NextSong|1541173235000|      1500000|   2449165000|\n",
      "|   154|1541171735000|1543622400000|Add to Playlist|1541173246000|      1511000|   2449154000|\n",
      "|   154|1541171735000|1543622400000|       NextSong|1541173472000|      1737000|   2448928000|\n",
      "|   154|1541171735000|1543622400000|       NextSong|1541173544000|      1809000|   2448856000|\n",
      "|   154|1541171735000|1543622400000|      Thumbs Up|1541173545000|      1810000|   2448855000|\n",
      "|   154|1541171735000|1543622400000|       NextSong|1541173725000|      1990000|   2448675000|\n",
      "|   154|1541171735000|1543622400000|       NextSong|1541173901000|      2166000|   2448499000|\n",
      "|   154|1541171735000|1543622400000|       NextSong|1541174003000|      2268000|   2448397000|\n",
      "|   154|1541171735000|1543622400000|       NextSong|1541174255000|      2520000|   2448145000|\n",
      "|   154|1541171735000|1543622400000|       NextSong|1541174540000|      2805000|   2447860000|\n",
      "|   154|1541171735000|1543622400000|       NextSong|1541174730000|      2995000|   2447670000|\n",
      "|   154|1541171735000|1543622400000|       NextSong|1541174964000|      3229000|   2447436000|\n",
      "+------+-------------+-------------+---------------+-------------+-------------+-------------+\n",
      "only showing top 20 rows\n",
      "\n"
     ]
    }
   ],
   "source": [
    "df.select(['userId', 'obsstart', 'obsend', 'page', 'ts', 'timefromstart', 'timebeforeend']).where(df['userId']==154).show()"
   ]
  },
  {
   "cell_type": "code",
   "execution_count": 43,
   "metadata": {},
   "outputs": [],
   "source": [
    "# 计算最后的订阅情况\n",
    "df = df.withColumn('lastlevel', last(col('level')).over(windowuser))"
   ]
  },
  {
   "cell_type": "code",
   "execution_count": 44,
   "metadata": {},
   "outputs": [
    {
     "name": "stdout",
     "output_type": "stream",
     "text": [
      "before removing  286500\n",
      "after removing  278154\n"
     ]
    }
   ],
   "source": [
    "# 将没有userId的数据移除\n",
    "print(\"before removing \", df.count())\n",
    "df = df.where(df['userId'] != \"\")\n",
    "print(\"after removing \", df.count())"
   ]
  },
  {
   "cell_type": "code",
   "execution_count": 45,
   "metadata": {},
   "outputs": [
    {
     "name": "stdout",
     "output_type": "stream",
     "text": [
      "before removing  278154\n",
      "after removing  278150\n"
     ]
    }
   ],
   "source": [
    "# 把超出的obs_end_default的数据移除\n",
    "print(\"before removing \", df.count())\n",
    "df = df.where(df['ts'] < obs_end_default)\n",
    "print(\"after removing \", df.count())"
   ]
  },
  {
   "cell_type": "markdown",
   "metadata": {},
   "source": [
    "### 使用Mapping和agg对数据进行转换\n",
    "将数据集转换成用户等级的数据集，每一行代表一个用户的数据。\n",
    "该数据集的feature包括\n",
    "* userId\n",
    "* lastlevel: 用户最后的订阅级别，以二进制的格式表示。\n",
    "* gender: 用户的性别，以二进制的格式表示\n",
    "* obsstart，obsend: 观察开始和结束的时间\n",
    "* endstate: 用户在观察时间内的最后一次操作\n",
    "* nact: 用户的在观察时间内的总操作数量\n",
    "* nsongs, ntbup, ntbdown, nfriend, nplaylist, ndgrade, nupgrade, nhome, nadvert, nhelp, nsettings: 用户的各种操作分别进行统计\n",
    "* nact_recent，nact_oldest：用户在最后的k天和最初的k天的活动，recent是最后的几天，oldest是最初的几天\n",
    "* nsongs_recent, nsongs_oldest: 用户在最后的k天和最初的k天听的歌的数量，recent和oldest的含义与上面相同"
   ]
  },
  {
   "cell_type": "code",
   "execution_count": 46,
   "metadata": {},
   "outputs": [],
   "source": [
    "trend_est_days = 14\n",
    "trend_est_hours = trend_est_days * 24\n",
    "\n",
    "trend_est = trend_est_days * 24 * 60 * 60 * 1000"
   ]
  },
  {
   "cell_type": "code",
   "execution_count": 47,
   "metadata": {},
   "outputs": [],
   "source": [
    "df_user = df.groupby('userId')\\\n",
    ".agg(\n",
    "    first(when(col('lastlevel')=='paid',1).otherwise(0)).alias('lastlevel'),\n",
    "    first(when(col('gender') == 'F', 1).otherwise(0)).alias('gender'),\n",
    "    first(col('obsstart')).alias('obsstart'),\n",
    "    first(col('obsend')).alias('obsend'),\n",
    "    first(col('endstate')).alias('endstate'),\n",
    "    \n",
    "    count(col('page')).alias('nact'),\n",
    "    sum(when(col('page')=='NextSong',1).otherwise(0)).alias(\"nsongs\"),\n",
    "    sum(when(col('page')=='Thumbs Up', 1).otherwise(0)).alias(\"ntbup\"),\n",
    "    sum(when(col('page')=='Thumbs Down', 1).otherwise(0)).alias('ntbdown'),\n",
    "    sum(when(col('page')=='Add Friend', 1).otherwise(0)).alias('nfriend'),\n",
    "    sum(when(col('page')=='Add to Playlist', 1).otherwise(0)).alias('nplaylist'),\n",
    "    sum(when(col('page')=='Submit Downgrade', 1).otherwise(0)).alias('ndgrade'),\n",
    "    sum(when(col('page')=='Submit Upgrade', 1).otherwise(0)).alias('nugrade'),\n",
    "    sum(when(col('page')=='Home', 1).otherwise(0)).alias('nhome'),\n",
    "    sum(when(col('page')=='Roll Advert', 1).otherwise(0)).alias('nadvert'),\n",
    "    sum(when(col('page')=='Help', 1).otherwise(0)).alias('nhelp'),\n",
    "    sum(when(col('page')=='Settings', 1).otherwise(0)).alias('nsettings'),\n",
    "    sum(when(col('page')=='Error', 1).otherwise(0)).alias('nerror'),\n",
    "    \n",
    "    sum(when(col('timebeforeend') < trend_est, 1).otherwise(0)).alias('nact_recent'),\n",
    "    sum(when(col('timefromstart') < trend_est, 1).otherwise(0)).alias('nact_oldest'),\n",
    "    sum(when((col('page')=='NextSong') & (col('timebeforeend') < trend_est), 1).otherwise(0)).alias('nsongs_recent'),\n",
    "    sum(when((col('page')=='Thumbs Down') & (col('timefromstart')<trend_est) , 1).otherwise(0)).alias('nsongs_oldest')\n",
    "    )"
   ]
  },
  {
   "cell_type": "code",
   "execution_count": 48,
   "metadata": {},
   "outputs": [
    {
     "name": "stdout",
     "output_type": "stream",
     "text": [
      "+------+------+---------+-------------+-------------+--------------------+\n",
      "|userId|gender|lastlevel|     obsstart|       obsend|            endstate|\n",
      "+------+------+---------+-------------+-------------+--------------------+\n",
      "|100010|     1|        0|1538352000000|1543622400000|              Logout|\n",
      "|200002|     0|        1|1538352000000|1543622400000|           Thumbs Up|\n",
      "|   125|     0|        0|1538352000000|1539318918000|Cancellation Conf...|\n",
      "|   124|     1|        1|1538352000000|1543622400000|                Home|\n",
      "|    51|     0|        1|1538352000000|1539761972000|Cancellation Conf...|\n",
      "+------+------+---------+-------------+-------------+--------------------+\n",
      "only showing top 5 rows\n",
      "\n"
     ]
    }
   ],
   "source": [
    "df_user.select(['userId', 'gender', 'lastlevel', 'obsstart', 'obsend', 'endstate']).show(5)"
   ]
  },
  {
   "cell_type": "markdown",
   "metadata": {},
   "source": [
    "## 引入特征\n",
    "构建一些引用的feature\n",
    "\n",
    "#### 数值特征\n",
    "* nact_perh: 用户每小时的交互数：\n",
    "$$nact\\_perh = \\frac{nact}{obshours}$$\n",
    "* nsongs_perh, ntbup_perh, ntbdown_perh, nfriend_perh, nplaylist_perh, nhome_perh, nadvert_perh都和上面的nact_perh类似的计算\n",
    "\n",
    "#### 比例\n",
    "* songratio: 听歌在用户交互中所占的比例\n",
    "$$songratio = \\frac{nsongs}{nact}$$\n",
    "* positiveratio: 正面的交互在用户的所有交互中所占的比例\n",
    "$$positiveratio = \\frac{ntbup+nfriend+nplaylist}{nact}$$\n",
    "* negativeratio: 负面的交互在用户的所有交互中所占的比例\n",
    "$$negativeratio = \\frac{ntbdown+nhelp+nerror+nsettings}{nact}$$\n",
    "* updownratio: thumbs up和thumbs down的比例，为了防止分母为0的情况，在分母加上一个0.1\n",
    "$$updownratio = \\frac{ntbup}{ntbdown+0.1}$$\n",
    "* upgradedowngrade: 所有订阅等级的改变\n",
    "$$upgradedowngrade=nupgrade + ndgrade$$\n",
    "\n",
    "#### 趋势特征\n",
    "* trend_act: 用户的活动的趋势\n",
    "$$trend\\_act = \\frac{nact\\_recent(k) - nact\\_oldest(k)}{k \\times obshours}$$\n",
    "* trend_songs: 用户的歌曲的播放趋势\n",
    "$$trend\\_songs = \\frac{nsongs\\_recent(k)-nsongs\\_oldest(k)}{k\\times obshours}$$\n",
    "\n",
    "#### 交互模式\n",
    "* avgsessionitems: 用户在一个session中平均的交互次数\n",
    "* avgsessiontime: 用户session的平均长度\n",
    "* avgsongs: 用户的在两个连续的home页访问之间的平均歌曲播放数量\n",
    "\n",
    "#### 类别特征\n",
    "用户的性别，最后订阅的等级。"
   ]
  },
  {
   "cell_type": "code",
   "execution_count": 49,
   "metadata": {},
   "outputs": [],
   "source": [
    "df_user = df_user.withColumn('obshours', (col('obsend') - col('obsstart'))/1000/3600)\\\n",
    ".withColumn('nact_perh', col('nact') / col('obshours'))\\\n",
    ".withColumn('nsongs_perh', col('nsongs') / col('obshours'))\\\n",
    ".withColumn('ntbup_perh', col('ntbup') / col('obshours'))\\\n",
    ".withColumn('ntbdown_perh', col('ntbdown') / col('obshours'))\\\n",
    ".withColumn('nfriend_perh', col('nfriend') / col('obshours'))\\\n",
    ".withColumn('nplaylist_perh', col('nplaylist') / col('obshours'))\\\n",
    ".withColumn('nhome_perh', col('nhome') / col('obshours'))\\\n",
    ".withColumn('nadvert_perh', col('nadvert') / col('obshours'))\\\n",
    ".withColumn('upgradedowngrade', col('nugrade') + col('ndgrade'))\\\n",
    ".withColumn('songratio', col('nsongs') / col('nact'))\\\n",
    ".withColumn('positiveratio', (col('ntbup') + col('nfriend') + col('nplaylist')) / col('nact'))\\\n",
    ".withColumn('negativeratio', (col('ntbdown') + col('nhelp') + col('nerror') + col('nsettings')) / col('nact'))\\\n",
    ".withColumn('updownratio', col('ntbup') / (col('ntbdown') + 0.1))\\\n",
    ".withColumn('nact_recent_perh', col('nact_recent') / trend_est_hours)\\\n",
    ".withColumn('nact_oldest_perh', col('nact_oldest') / trend_est_hours)\\\n",
    ".withColumn('nsongs_recent_perh', col('nsongs_recent') / trend_est_hours)\\\n",
    ".withColumn('nsongs_oldest_perh', col('nsongs_oldest') / trend_est_hours)\\\n",
    ".withColumn('trend_act', (col('nact_recent_perh') - col('nact_oldest_perh')) / col('obshours'))\\\n",
    ".withColumn('trend_songs', (col('nsongs_recent_perh') - col('nsongs_oldest_perh')) / col('obshours'))"
   ]
  },
  {
   "cell_type": "code",
   "execution_count": 50,
   "metadata": {},
   "outputs": [
    {
     "name": "stdout",
     "output_type": "stream",
     "text": [
      "+------+--------------------+-------------------+--------------------+--------------------+--------------------+\n",
      "|userId|           nact_perh|        nsongs_perh|          ntbup_perh|        ntbdown_perh|        nfriend_perh|\n",
      "+------+--------------------+-------------------+--------------------+--------------------+--------------------+\n",
      "|100010| 0.26024590163934425| 0.1878415300546448|0.011612021857923498|0.003415300546448...| 0.00273224043715847|\n",
      "|200002|  0.3237704918032787|0.26434426229508196|0.014344262295081968|0.004098360655737705| 0.00273224043715847|\n",
      "|   125|0.040954868975445695| 0.0297853592548696|                 0.0|                 0.0|                 0.0|\n",
      "|   124|   3.295765027322404|   2.78620218579235|  0.1168032786885246|0.028005464480874317|0.050546448087431695|\n",
      "|    51|   6.291188761195258|  5.389894267403892|   0.255324219204353|0.053618086032914125| 0.07149078137721884|\n",
      "+------+--------------------+-------------------+--------------------+--------------------+--------------------+\n",
      "only showing top 5 rows\n",
      "\n"
     ]
    }
   ],
   "source": [
    "df_user.select(['userId','nact_perh','nsongs_perh', 'ntbup_perh','ntbdown_perh','nfriend_perh']).show(5)"
   ]
  },
  {
   "cell_type": "code",
   "execution_count": 51,
   "metadata": {},
   "outputs": [],
   "source": [
    "# 计算用户在每个session中平均的item\n",
    "session_avgnitems = df.groupby(['userId','sessionId'])\\\n",
    "    .agg(max(col('itemInSession')).alias('nitems')) \\\n",
    "    .groupby('userId').agg(avg(col('nitems')).alias('avgsessionitems'))"
   ]
  },
  {
   "cell_type": "code",
   "execution_count": 52,
   "metadata": {},
   "outputs": [],
   "source": [
    "# 计算用户的平均session长度\n",
    "session_avglength = df.groupby(['userId','sessionId'])\\\n",
    "    .agg(min(col('ts')).alias('startsession'), max(col('ts')).alias('endsession'))\\\n",
    "    .groupby('userId').agg(avg(col('endsession')-col('startsession')).alias('avgsessionlength'))"
   ]
  },
  {
   "cell_type": "code",
   "execution_count": 53,
   "metadata": {},
   "outputs": [],
   "source": [
    "# 计算一个用户在两次home page的访问之间平均的歌曲播放量\n",
    "windowhome = (Window.partitionBy('userId').orderBy('ts').rangeBetween(Window.unboundedPreceding,0))\n",
    "df = df.withColumn('phasehome', sum(when(df.page=='Home', 1).otherwise(0)).over(windowhome))\n",
    "\n",
    "song_home = df.groupby(['userId', 'phasehome'])\\\n",
    "    .agg(sum(when(col('page')=='NextSong', 1).otherwise(0)).alias('total'))\\\n",
    "    .groupby('userId').agg(avg(col('total')).alias('avgsongs'))"
   ]
  },
  {
   "cell_type": "code",
   "execution_count": 54,
   "metadata": {},
   "outputs": [],
   "source": [
    "df_user = df_user\\\n",
    ".join(session_avgnitems, on='userId')\\\n",
    ".join(session_avglength, on='userId')\\\n",
    ".join(song_home, on='userId')"
   ]
  },
  {
   "cell_type": "code",
   "execution_count": 55,
   "metadata": {},
   "outputs": [
    {
     "name": "stdout",
     "output_type": "stream",
     "text": [
      "+------+------------------+--------------------+------------------+\n",
      "|userId|   avgsessionitems|    avgsessionlength|          avgsongs|\n",
      "+------+------------------+--------------------+------------------+\n",
      "|100010| 54.42857142857143|           9269000.0|22.916666666666668|\n",
      "|200002|              80.0|            1.5984E7|18.428571428571427|\n",
      "|   125|              10.0|           1774000.0|               8.0|\n",
      "|    51|             251.9|           5.23414E7| 28.14666666666667|\n",
      "|   124|170.13793103448276|3.4739655172413796E7|23.176136363636363|\n",
      "+------+------------------+--------------------+------------------+\n",
      "only showing top 5 rows\n",
      "\n"
     ]
    }
   ],
   "source": [
    "df_user.select(['userId', 'avgsessionitems', 'avgsessionlength', 'avgsongs']).show(5)"
   ]
  },
  {
   "cell_type": "markdown",
   "metadata": {},
   "source": [
    "### label\n",
    "创建这个数据集的label\n",
    "* label：二元响应变量，1表示churned user，也就是在2018年10月1日到2018年12月1日之间取消了订阅的user。0表示的在观察之间一直都保持订阅的。\n",
    "\n",
    "我们已经把这个二元的响应保存在endstate变量中。这个变量保存了用户的最后交互。对于churned user，他们的最后的交互是'Cancellation Confirmation'。"
   ]
  },
  {
   "cell_type": "code",
   "execution_count": 56,
   "metadata": {},
   "outputs": [],
   "source": [
    "df_user = df_user.withColumn('label', when(df_user.endstate == 'Cancellation Confirmation', 1).otherwise(0))"
   ]
  },
  {
   "cell_type": "code",
   "execution_count": 57,
   "metadata": {},
   "outputs": [],
   "source": [
    "label_pd = df_user.groupby('label').count().toPandas()"
   ]
  },
  {
   "cell_type": "code",
   "execution_count": 62,
   "metadata": {},
   "outputs": [
    {
     "data": {
      "image/png": "[encoded data removed]",
      "text/plain": [
       "<Figure size 216x288 with 1 Axes>"
      ]
     },
     "metadata": {
      "needs_background": "light"
     },
     "output_type": "display_data"
    }
   ],
   "source": [
    "# 画图\n",
    "plt.rcParams['figure.figsize'] = (3,4)\n",
    "sns.barplot(x='label', y='count', data=label_pd, saturation=1);\n",
    "plt.title('Label Distribution')\n",
    "plt.savefig('label')"
   ]
  },
  {
   "cell_type": "markdown",
   "metadata": {},
   "source": [
    "## 探索性数据分析\n",
    "主要分析数据之间的相关性"
   ]
  },
  {
   "cell_type": "code",
   "execution_count": 59,
   "metadata": {},
   "outputs": [],
   "source": [
    "df_user_pd = df_user.toPandas()"
   ]
  },
  {
   "cell_type": "markdown",
   "metadata": {},
   "source": [
    "### 数据相关性\n"
   ]
  },
  {
   "cell_type": "code",
   "execution_count": 60,
   "metadata": {},
   "outputs": [
    {
     "data": {
      "image/png": "[encoded data removed]",
      "text/plain": [
       "<Figure size 720x720 with 2 Axes>"
      ]
     },
     "metadata": {
      "needs_background": "light"
     },
     "output_type": "display_data"
    }
   ],
   "source": [
    "heatmap = df_user_pd[['nact_perh','nsongs_perh','nhome_perh','ntbup_perh','ntbdown_perh',\n",
    "                      'nfriend_perh','nplaylist_perh','nadvert_perh','upgradedowngrade',\n",
    "                      'songratio','positiveratio','negativeratio','updownratio','trend_act','trend_songs',\n",
    "                     'avgsessionitems','avgsessionlength','avgsongs']].corr()\n",
    "plt.rcParams['figure.figsize'] = (10,10)\n",
    "plt.subplots_adjust(left=0.20,right=0.9,top=0.95,bottom=0.15)\n",
    "sns.heatmap(heatmap, cmap=\"RdBu_r\", square=True,vmin=-1,vmax=1);\n",
    "plt.title('Feature Correlation');\n",
    "plt.savefig('heatmap')"
   ]
  },
  {
   "cell_type": "code",
   "execution_count": 61,
   "metadata": {},
   "outputs": [
    {
     "data": {
      "image/png": "[encoded data removed]",
      "text/plain": [
       "<Figure size 864x1152 with 13 Axes>"
      ]
     },
     "metadata": {
      "needs_background": "light"
     },
     "output_type": "display_data"
    }
   ],
   "source": [
    "# 各个变量和label的相关性\n",
    "col = ['nsongs_perh', 'ntbup_perh', 'ntbdown_perh',\n",
    "      'nfriend_perh', 'nadvert_perh',\n",
    "      'upgradedowngrade', 'songratio', 'positiveratio',\n",
    "      'negativeratio', 'updownratio','trend_songs',\n",
    "      'avgsessionitems', 'avgsongs']\n",
    "\n",
    "plt.rcParams['figure.figsize'] = (12,16)\n",
    "for i in range(len(col)):\n",
    "    plt.subplot(5,3,i+1)\n",
    "    plt.tight_layout();\n",
    "    sns.distplot(df_user_pd[df_user_pd['label']==0][col[i]], hist=False, norm_hist=True,\n",
    "                kde_kws = {'shade':True, 'linewidth':2});\n",
    "    sns.distplot(df_user_pd[df_user_pd['label']==1][col[i]], hist=False, norm_hist=True,\n",
    "                kde_kws = {'shade':True, 'linewidth':2});\n",
    "    plt.legend(['Not Churned', 'Churned'])\n",
    "    plt.title(col[i]);\n",
    "    plt.xlabel(\" \");\n",
    "    plt.yticks([]);\n",
    "plt.savefig('relation')"
   ]
  },
  {
   "cell_type": "markdown",
   "metadata": {},
   "source": [
    "# 建模\n",
    "将完整数据集分成训练集、测试集和验证集。测试几种你学过的机器学习方法。评价不同机器学习方法的准确率，根据情况调节参数。根据准确率你挑选出表现最好的那个模型，然后报告在训练集上的结果。因为流失顾客数据集很小，我建议选用 F1 score 作为优化指标。\n",
    "\n",
    "目前有14个数值feature，2个binary feature。"
   ]
  },
  {
   "cell_type": "markdown",
   "metadata": {},
   "source": [
    "## 建立Pipeline"
   ]
  },
  {
   "cell_type": "code",
   "execution_count": 136,
   "metadata": {},
   "outputs": [],
   "source": [
    "numeric_columns = ['nsongs_perh', 'ntbup_perh', 'ntbdown_perh','nfriend_perh',\n",
    "                  'nadvert_perh','upgradedowngrade','songratio','positiveratio',\n",
    "                   'negativeratio','updownratio','trend_songs','avgsessionitems','avgsongs']\n",
    "\n",
    "numeric_assembler = VectorAssembler(inputCols = numeric_columns, outputCol='numericvectorized')\n",
    "\n",
    "scaler = StandardScaler(inputCol='numericvectorized', outputCol='numericscaled',withStd=True,withMean=True)\n",
    "\n",
    "binary_columns = ['lastlevel','gender']\n",
    "total_assembler = VectorAssembler(inputCols=binary_columns + ['numericscaled'], outputCol='features')\n",
    "\n",
    "lr = LogisticRegression()\n",
    "pipeline_lr = Pipeline(stages=[numeric_assembler, scaler, total_assembler, lr])\n",
    "\n",
    "rf = RandomForestClassifier()\n",
    "pipeline_rf = Pipeline(stages=[numeric_assembler, scaler, total_assembler, rf])\n",
    "\n",
    "gb = GBTClassifier()\n",
    "pipeline_gb = Pipeline(stages=[numeric_assembler, scaler, total_assembler,gb])"
   ]
  },
  {
   "cell_type": "markdown",
   "metadata": {},
   "source": [
    "## Grid Search\n",
    "设置grid search的参数\n",
    "a) Logistic Regression\n",
    "* maxIter: 10, 30\n",
    "* regParam: 0.0, 0.1\n",
    "* elasticNetParam: 0.0, 0.5\n",
    "\n",
    "b) Ramdom Forest Classifier\n",
    "* maxDepth: 4,5,6,7\n",
    "* numTrees: 20,40\n",
    "\n",
    "c) Gradient-Boosted Tree Classifier\n",
    "* maxDepth: 4,5\n",
    "* maxIter: 20,100\n",
    "\n",
    "使用AUC来评估，并且4-fold cross validation。"
   ]
  },
  {
   "cell_type": "code",
   "execution_count": 137,
   "metadata": {},
   "outputs": [],
   "source": [
    "# Logistic regression\n",
    "paramGrid_lr = ParamGridBuilder()\\\n",
    "    .addGrid(lr.maxIter, [10,30])\\\n",
    "    .addGrid(lr.regParam, [0.0,0.1])\\\n",
    "    .addGrid(lr.elasticNetParam, [0.0,0.5])\\\n",
    "    .build()\n",
    "\n",
    "crossval_lr = CrossValidator(estimator = pipeline_lr,\n",
    "                            estimatorParamMaps = paramGrid_lr,\n",
    "                            evaluator = BinaryClassificationEvaluator(),\n",
    "                            numFolds=4)"
   ]
  },
  {
   "cell_type": "code",
   "execution_count": 138,
   "metadata": {},
   "outputs": [],
   "source": [
    "# Random forest classifier\n",
    "paramGrid_rf = ParamGridBuilder() \\\n",
    "    .addGrid(rf.maxDepth, [4,5,6,7])\\\n",
    "    .addGrid(rf.numTrees, [20,40])\\\n",
    "    .build()\n",
    "\n",
    "crossval_rf = CrossValidator(estimator=pipeline_rf,\n",
    "                            estimatorParamMaps=paramGrid_rf,\n",
    "                            evaluator = BinaryClassificationEvaluator(),\n",
    "                            numFolds=4)"
   ]
  },
  {
   "cell_type": "code",
   "execution_count": 139,
   "metadata": {},
   "outputs": [],
   "source": [
    "# Gradient-boosted tree classifier \n",
    "paramGrid_gb = ParamGridBuilder() \\\n",
    ".addGrid(gb.maxDepth, [4, 5]) \\\n",
    ".addGrid(gb.maxIter, [20, 100]) \\\n",
    ".build()\n",
    "\n",
    "# Grid search with cross validation\n",
    "crossval_gb = CrossValidator(estimator = pipeline_gb,\n",
    "                          estimatorParamMaps = paramGrid_gb,\n",
    "                          evaluator = BinaryClassificationEvaluator(),\n",
    "                          #evaluator = F1score(),\n",
    "                          numFolds = 4)"
   ]
  },
  {
   "cell_type": "markdown",
   "metadata": {},
   "source": [
    "## 分割训练集和测试集"
   ]
  },
  {
   "cell_type": "code",
   "execution_count": 140,
   "metadata": {},
   "outputs": [],
   "source": [
    "train_plus_val, test = df_user.randomSplit([0.8,0.2], seed=9)\n",
    "ntotal = df_user.count()\n",
    "ntrainval = train_plus_val.count()\n",
    "ntest = test.count()"
   ]
  },
  {
   "cell_type": "code",
   "execution_count": 141,
   "metadata": {},
   "outputs": [
    {
     "name": "stdout",
     "output_type": "stream",
     "text": [
      "Original dataset: 225 rows. Training and validation: 179 rows. Testing set: 46 rows\n"
     ]
    }
   ],
   "source": [
    "print(f'Original dataset: {ntotal} rows. Training and validation: {ntrainval} rows. Testing set: {ntest} rows')"
   ]
  },
  {
   "cell_type": "markdown",
   "metadata": {},
   "source": [
    "## 模型训练和验证"
   ]
  },
  {
   "cell_type": "markdown",
   "metadata": {},
   "source": [
    "### Logistic regression"
   ]
  },
  {
   "cell_type": "code",
   "execution_count": 142,
   "metadata": {},
   "outputs": [],
   "source": [
    "### logistic regression\n",
    "start = time.time()\n",
    "crossvalmodel_lr = crossval_lr.fit(train_plus_val)\n",
    "end = time.time()"
   ]
  },
  {
   "cell_type": "code",
   "execution_count": 143,
   "metadata": {},
   "outputs": [
    {
     "name": "stdout",
     "output_type": "stream",
     "text": [
      "Time spent for grid search: 1974.3633468151093 seconds\n"
     ]
    }
   ],
   "source": [
    "print(f'Time spent for grid search: {end-start} seconds')"
   ]
  },
  {
   "cell_type": "code",
   "execution_count": 144,
   "metadata": {},
   "outputs": [
    {
     "data": {
      "text/html": [
       "<div>\n",
       "<style scoped>\n",
       "    .dataframe tbody tr th:only-of-type {\n",
       "        vertical-align: middle;\n",
       "    }\n",
       "\n",
       "    .dataframe tbody tr th {\n",
       "        vertical-align: top;\n",
       "    }\n",
       "\n",
       "    .dataframe thead th {\n",
       "        text-align: right;\n",
       "    }\n",
       "</style>\n",
       "<table border=\"1\" class=\"dataframe\">\n",
       "  <thead>\n",
       "    <tr style=\"text-align: right;\">\n",
       "      <th></th>\n",
       "      <th>elasticNetParam</th>\n",
       "      <th>maxIter</th>\n",
       "      <th>regParam</th>\n",
       "      <th>AUC score</th>\n",
       "    </tr>\n",
       "  </thead>\n",
       "  <tbody>\n",
       "    <tr>\n",
       "      <th>0</th>\n",
       "      <td>0.0</td>\n",
       "      <td>10</td>\n",
       "      <td>0.0</td>\n",
       "      <td>0.894352</td>\n",
       "    </tr>\n",
       "    <tr>\n",
       "      <th>1</th>\n",
       "      <td>0.5</td>\n",
       "      <td>10</td>\n",
       "      <td>0.0</td>\n",
       "      <td>0.894352</td>\n",
       "    </tr>\n",
       "    <tr>\n",
       "      <th>2</th>\n",
       "      <td>0.0</td>\n",
       "      <td>10</td>\n",
       "      <td>0.1</td>\n",
       "      <td>0.850100</td>\n",
       "    </tr>\n",
       "    <tr>\n",
       "      <th>3</th>\n",
       "      <td>0.5</td>\n",
       "      <td>10</td>\n",
       "      <td>0.1</td>\n",
       "      <td>0.852719</td>\n",
       "    </tr>\n",
       "    <tr>\n",
       "      <th>4</th>\n",
       "      <td>0.0</td>\n",
       "      <td>30</td>\n",
       "      <td>0.0</td>\n",
       "      <td>0.880688</td>\n",
       "    </tr>\n",
       "    <tr>\n",
       "      <th>5</th>\n",
       "      <td>0.5</td>\n",
       "      <td>30</td>\n",
       "      <td>0.0</td>\n",
       "      <td>0.880688</td>\n",
       "    </tr>\n",
       "    <tr>\n",
       "      <th>6</th>\n",
       "      <td>0.0</td>\n",
       "      <td>30</td>\n",
       "      <td>0.1</td>\n",
       "      <td>0.849238</td>\n",
       "    </tr>\n",
       "    <tr>\n",
       "      <th>7</th>\n",
       "      <td>0.5</td>\n",
       "      <td>30</td>\n",
       "      <td>0.1</td>\n",
       "      <td>0.851677</td>\n",
       "    </tr>\n",
       "  </tbody>\n",
       "</table>\n",
       "</div>"
      ],
      "text/plain": [
       "   elasticNetParam  maxIter  regParam  AUC score\n",
       "0              0.0       10       0.0   0.894352\n",
       "1              0.5       10       0.0   0.894352\n",
       "2              0.0       10       0.1   0.850100\n",
       "3              0.5       10       0.1   0.852719\n",
       "4              0.0       30       0.0   0.880688\n",
       "5              0.5       30       0.0   0.880688\n",
       "6              0.0       30       0.1   0.849238\n",
       "7              0.5       30       0.1   0.851677"
      ]
     },
     "execution_count": 144,
     "metadata": {},
     "output_type": "execute_result"
    }
   ],
   "source": [
    "## store the result \n",
    "scores = crossvalmodel_lr.avgMetrics\n",
    "params = [{p.name: v for p,v in m.items()} for m in crossvalmodel_lr.getEstimatorParamMaps()]\n",
    "params_pd = pd.DataFrame(params)\n",
    "params_pd['AUC score'] = scores\n",
    "params_pd"
   ]
  },
  {
   "cell_type": "code",
   "execution_count": 130,
   "metadata": {},
   "outputs": [
    {
     "name": "stdout",
     "output_type": "stream",
     "text": [
      "Time spent for training: 143.7246778011322 seconds\n"
     ]
    }
   ],
   "source": [
    "# 使用表现最好的参数训练\n",
    "best_lr = LogisticRegression(maxIter = 10, regParam=0.0)\n",
    "pipeline_best_lr = Pipeline(stages=[numeric_assembler, scaler, total_assembler, best_lr])\n",
    "\n",
    "start = time.time()\n",
    "model_lr = pipeline_best_lr.fit(train_plus_val)\n",
    "end = time.time()\n",
    "print(f'Time spent for training: {(end-start)} seconds')"
   ]
  },
  {
   "cell_type": "code",
   "execution_count": 131,
   "metadata": {},
   "outputs": [
    {
     "name": "stdout",
     "output_type": "stream",
     "text": [
      "+------+-----+--------------------+--------------------+----------+\n",
      "|userId|label|       rawPrediction|         probability|prediction|\n",
      "+------+-----+--------------------+--------------------+----------+\n",
      "|   138|    0|[3.17172637279616...|[0.95975631717236...|       0.0|\n",
      "|   112|    0|[1.20382927179049...|[0.76920528909787...|       0.0|\n",
      "|200010|    0|[2.04833227125861...|[0.88577899551455...|       0.0|\n",
      "|    34|    0|[1.86632273792383...|[0.86603221394237...|       0.0|\n",
      "|     8|    0|[1.47335193124942...|[0.81356632853335...|       0.0|\n",
      "+------+-----+--------------------+--------------------+----------+\n",
      "only showing top 5 rows\n",
      "\n"
     ]
    }
   ],
   "source": [
    "# 在测试集上的表现\n",
    "results_lr = model_lr.transform(test)\n",
    "results_lr.select(['userId', 'label', 'rawPrediction','probability','prediction']).show(5)"
   ]
  },
  {
   "cell_type": "code",
   "execution_count": 132,
   "metadata": {},
   "outputs": [],
   "source": [
    "class F1score(Evaluator):\n",
    "\n",
    "    def __init__(self, predictionCol = \"prediction\", labelCol=\"label\"):\n",
    "        self.predictionCol = predictionCol\n",
    "        self.labelCol = labelCol\n",
    "\n",
    "    def _evaluate(self, dataset):\n",
    "        \n",
    "        # Calculate F1 score \n",
    "        tp = dataset.where((dataset.label == 1) & (dataset.prediction == 1)).count()\n",
    "        fp = dataset.where((dataset.label == 0) & (dataset.prediction == 1)).count()\n",
    "        tn = dataset.where((dataset.label == 0) & (dataset.prediction == 0)).count()\n",
    "        fn = dataset.where((dataset.label == 1) & (dataset.prediction == 0)).count()\n",
    "        \n",
    "        # Add epsilon to prevent division by zero\n",
    "        precision = tp / (tp + fp + 0.00001)\n",
    "        recall = tp / (tp + fn + 0.00001)\n",
    "        \n",
    "        f1 = 2 * precision * recall / (precision + recall + 0.00001)\n",
    "        \n",
    "        return f1\n",
    "\n",
    "    def isLargerBetter(self):\n",
    "        return True"
   ]
  },
  {
   "cell_type": "code",
   "execution_count": 133,
   "metadata": {},
   "outputs": [
    {
     "name": "stdout",
     "output_type": "stream",
     "text": [
      "Logistic regression AUC score: 0.8321678321678323\n"
     ]
    }
   ],
   "source": [
    "# 在测试集上的AUC分数\n",
    "auc_evaluator = BinaryClassificationEvaluator()\n",
    "auc_lr = auc_evaluator.evaluate(results_lr)\n",
    "print(f'Logistic regression AUC score: {auc_lr}')"
   ]
  },
  {
   "cell_type": "code",
   "execution_count": 134,
   "metadata": {},
   "outputs": [
    {
     "name": "stdout",
     "output_type": "stream",
     "text": [
      "Logistic regression F1 score: 0.6666613152261771\n"
     ]
    }
   ],
   "source": [
    "# 在测试集上的f1 score\n",
    "f1_evaluator = F1score()\n",
    "f1score_lr = f1_evaluator._evaluate(results_lr)\n",
    "print(f'Logistic regression F1 score: {f1score_lr}')"
   ]
  },
  {
   "cell_type": "markdown",
   "metadata": {},
   "source": [
    "### Random forests"
   ]
  },
  {
   "cell_type": "code",
   "execution_count": 136,
   "metadata": {},
   "outputs": [
    {
     "name": "stdout",
     "output_type": "stream",
     "text": [
      "Time spent for grid search: 1826.1542420387268 seconds\n"
     ]
    }
   ],
   "source": [
    "# grid search\n",
    "start = time.time()\n",
    "crossvalmodel_rf = crossval_rf.fit(train_plus_val)\n",
    "end = time.time()\n",
    "print(f'Time spent for grid search: {(end-start)} seconds')"
   ]
  },
  {
   "cell_type": "code",
   "execution_count": 139,
   "metadata": {},
   "outputs": [
    {
     "data": {
      "text/html": [
       "<div>\n",
       "<style scoped>\n",
       "    .dataframe tbody tr th:only-of-type {\n",
       "        vertical-align: middle;\n",
       "    }\n",
       "\n",
       "    .dataframe tbody tr th {\n",
       "        vertical-align: top;\n",
       "    }\n",
       "\n",
       "    .dataframe thead th {\n",
       "        text-align: right;\n",
       "    }\n",
       "</style>\n",
       "<table border=\"1\" class=\"dataframe\">\n",
       "  <thead>\n",
       "    <tr style=\"text-align: right;\">\n",
       "      <th></th>\n",
       "      <th>maxDepth</th>\n",
       "      <th>numTrees</th>\n",
       "      <th>score</th>\n",
       "    </tr>\n",
       "  </thead>\n",
       "  <tbody>\n",
       "    <tr>\n",
       "      <th>0</th>\n",
       "      <td>4</td>\n",
       "      <td>20</td>\n",
       "      <td>0.834322</td>\n",
       "    </tr>\n",
       "    <tr>\n",
       "      <th>1</th>\n",
       "      <td>4</td>\n",
       "      <td>40</td>\n",
       "      <td>0.796348</td>\n",
       "    </tr>\n",
       "    <tr>\n",
       "      <th>2</th>\n",
       "      <td>5</td>\n",
       "      <td>20</td>\n",
       "      <td>0.831505</td>\n",
       "    </tr>\n",
       "    <tr>\n",
       "      <th>3</th>\n",
       "      <td>5</td>\n",
       "      <td>40</td>\n",
       "      <td>0.805858</td>\n",
       "    </tr>\n",
       "    <tr>\n",
       "      <th>4</th>\n",
       "      <td>6</td>\n",
       "      <td>20</td>\n",
       "      <td>0.832491</td>\n",
       "    </tr>\n",
       "    <tr>\n",
       "      <th>5</th>\n",
       "      <td>6</td>\n",
       "      <td>40</td>\n",
       "      <td>0.823859</td>\n",
       "    </tr>\n",
       "    <tr>\n",
       "      <th>6</th>\n",
       "      <td>7</td>\n",
       "      <td>20</td>\n",
       "      <td>0.839171</td>\n",
       "    </tr>\n",
       "    <tr>\n",
       "      <th>7</th>\n",
       "      <td>7</td>\n",
       "      <td>40</td>\n",
       "      <td>0.825622</td>\n",
       "    </tr>\n",
       "  </tbody>\n",
       "</table>\n",
       "</div>"
      ],
      "text/plain": [
       "   maxDepth  numTrees     score\n",
       "0         4        20  0.834322\n",
       "1         4        40  0.796348\n",
       "2         5        20  0.831505\n",
       "3         5        40  0.805858\n",
       "4         6        20  0.832491\n",
       "5         6        40  0.823859\n",
       "6         7        20  0.839171\n",
       "7         7        40  0.825622"
      ]
     },
     "execution_count": 139,
     "metadata": {},
     "output_type": "execute_result"
    }
   ],
   "source": [
    "# 将分数进行保存\n",
    "scores = crossvalmodel_rf.avgMetrics\n",
    "params = [{p.name: v for p,v in m.items()} for m in crossvalmodel_rf.getEstimatorParamMaps()]\n",
    "params_pd = pd.DataFrame(params)\n",
    "params_pd['score'] = scores\n",
    "params_pd"
   ]
  },
  {
   "cell_type": "code",
   "execution_count": 144,
   "metadata": {},
   "outputs": [
    {
     "name": "stdout",
     "output_type": "stream",
     "text": [
      "Time spent for training: 165.51012682914734 seconds\n"
     ]
    }
   ],
   "source": [
    "# 使用表现最好的参数进行训练\n",
    "best_rf = RandomForestClassifier(maxDepth=4, numTrees=40)\n",
    "pipeline_best_rf = Pipeline(stages = [numeric_assembler, scaler, total_assembler, best_rf])\n",
    "\n",
    "start = time.time()\n",
    "model_rf = pipeline_best_rf.fit(train_plus_val)\n",
    "end = time.time()\n",
    "print(f'Time spent for training: {(end-start)} seconds')"
   ]
  },
  {
   "cell_type": "code",
   "execution_count": 148,
   "metadata": {},
   "outputs": [],
   "source": [
    "# 看一下这些feature的重要性\n",
    "importances = model_rf.stages[-1].featureImportances\n",
    "importances_list = [importances[i] for i in range(len(importances))]\n",
    "names = binary_columns + numeric_columns\n"
   ]
  },
  {
   "cell_type": "code",
   "execution_count": 149,
   "metadata": {},
   "outputs": [
    {
     "data": {
      "text/html": [
       "<div>\n",
       "<style scoped>\n",
       "    .dataframe tbody tr th:only-of-type {\n",
       "        vertical-align: middle;\n",
       "    }\n",
       "\n",
       "    .dataframe tbody tr th {\n",
       "        vertical-align: top;\n",
       "    }\n",
       "\n",
       "    .dataframe thead th {\n",
       "        text-align: right;\n",
       "    }\n",
       "</style>\n",
       "<table border=\"1\" class=\"dataframe\">\n",
       "  <thead>\n",
       "    <tr style=\"text-align: right;\">\n",
       "      <th></th>\n",
       "      <th>feature</th>\n",
       "      <th>importance</th>\n",
       "    </tr>\n",
       "  </thead>\n",
       "  <tbody>\n",
       "    <tr>\n",
       "      <th>12</th>\n",
       "      <td>trend_songs</td>\n",
       "      <td>0.303925</td>\n",
       "    </tr>\n",
       "    <tr>\n",
       "      <th>6</th>\n",
       "      <td>nadvert_perh</td>\n",
       "      <td>0.116693</td>\n",
       "    </tr>\n",
       "    <tr>\n",
       "      <th>8</th>\n",
       "      <td>songratio</td>\n",
       "      <td>0.115393</td>\n",
       "    </tr>\n",
       "    <tr>\n",
       "      <th>2</th>\n",
       "      <td>nsongs_perh</td>\n",
       "      <td>0.076271</td>\n",
       "    </tr>\n",
       "    <tr>\n",
       "      <th>11</th>\n",
       "      <td>updownratio</td>\n",
       "      <td>0.064454</td>\n",
       "    </tr>\n",
       "    <tr>\n",
       "      <th>14</th>\n",
       "      <td>avgsongs</td>\n",
       "      <td>0.056776</td>\n",
       "    </tr>\n",
       "    <tr>\n",
       "      <th>4</th>\n",
       "      <td>ntbdown_perh</td>\n",
       "      <td>0.050800</td>\n",
       "    </tr>\n",
       "    <tr>\n",
       "      <th>5</th>\n",
       "      <td>nfriend_perh</td>\n",
       "      <td>0.042414</td>\n",
       "    </tr>\n",
       "    <tr>\n",
       "      <th>7</th>\n",
       "      <td>upgradedowngrade</td>\n",
       "      <td>0.039485</td>\n",
       "    </tr>\n",
       "    <tr>\n",
       "      <th>13</th>\n",
       "      <td>avgsessionitems</td>\n",
       "      <td>0.036887</td>\n",
       "    </tr>\n",
       "    <tr>\n",
       "      <th>3</th>\n",
       "      <td>ntbup_perh</td>\n",
       "      <td>0.033580</td>\n",
       "    </tr>\n",
       "    <tr>\n",
       "      <th>9</th>\n",
       "      <td>positiveratio</td>\n",
       "      <td>0.024914</td>\n",
       "    </tr>\n",
       "    <tr>\n",
       "      <th>10</th>\n",
       "      <td>negativeratio</td>\n",
       "      <td>0.023245</td>\n",
       "    </tr>\n",
       "    <tr>\n",
       "      <th>1</th>\n",
       "      <td>gender</td>\n",
       "      <td>0.008437</td>\n",
       "    </tr>\n",
       "    <tr>\n",
       "      <th>0</th>\n",
       "      <td>lastlevel</td>\n",
       "      <td>0.006724</td>\n",
       "    </tr>\n",
       "  </tbody>\n",
       "</table>\n",
       "</div>"
      ],
      "text/plain": [
       "             feature  importance\n",
       "12       trend_songs    0.303925\n",
       "6       nadvert_perh    0.116693\n",
       "8          songratio    0.115393\n",
       "2        nsongs_perh    0.076271\n",
       "11       updownratio    0.064454\n",
       "14          avgsongs    0.056776\n",
       "4       ntbdown_perh    0.050800\n",
       "5       nfriend_perh    0.042414\n",
       "7   upgradedowngrade    0.039485\n",
       "13   avgsessionitems    0.036887\n",
       "3         ntbup_perh    0.033580\n",
       "9      positiveratio    0.024914\n",
       "10     negativeratio    0.023245\n",
       "1             gender    0.008437\n",
       "0          lastlevel    0.006724"
      ]
     },
     "execution_count": 149,
     "metadata": {},
     "output_type": "execute_result"
    }
   ],
   "source": [
    "pd.DataFrame({\"feature\": names, \"importance\":importances_list}).sort_values('importance', ascending=False)"
   ]
  },
  {
   "cell_type": "code",
   "execution_count": 150,
   "metadata": {},
   "outputs": [
    {
     "name": "stdout",
     "output_type": "stream",
     "text": [
      "+------+-----+--------------------+--------------------+----------+\n",
      "|userId|label|       rawPrediction|         probability|prediction|\n",
      "+------+-----+--------------------+--------------------+----------+\n",
      "|   138|    0|[34.1426404038817...|[0.85356601009704...|       0.0|\n",
      "|   112|    0|[32.156950926643,...|[0.80392377316607...|       0.0|\n",
      "|200010|    0|[30.4270604882179...|[0.76067651220544...|       0.0|\n",
      "|    34|    0|[33.4064196090523...|[0.83516049022630...|       0.0|\n",
      "|     8|    0|[35.5077657544297...|[0.88769414386074...|       0.0|\n",
      "+------+-----+--------------------+--------------------+----------+\n",
      "only showing top 5 rows\n",
      "\n"
     ]
    }
   ],
   "source": [
    "# 测试集的预测结果\n",
    "results_rf = model_rf.transform(test)\n",
    "results_rf.select(['userId','label','rawPrediction','probability','prediction']).show(5)"
   ]
  },
  {
   "cell_type": "code",
   "execution_count": 151,
   "metadata": {},
   "outputs": [
    {
     "name": "stdout",
     "output_type": "stream",
     "text": [
      "Random forest classifier AUC score: 0.9137529137529139\n"
     ]
    }
   ],
   "source": [
    "# 测试集的AUC分数\n",
    "auc_evaluator = BinaryClassificationEvaluator()\n",
    "auc_rf = auc_evaluator.evaluate(results_rf)\n",
    "print(f'Random forest classifier AUC score: {auc_rf}')"
   ]
  },
  {
   "cell_type": "code",
   "execution_count": 152,
   "metadata": {},
   "outputs": [
    {
     "name": "stdout",
     "output_type": "stream",
     "text": [
      "Random forest classifier F1 score: 0.6666613152261771\n"
     ]
    }
   ],
   "source": [
    "# 测试集的f1 score\n",
    "f1_evaluator = F1score()\n",
    "f1score_rf = f1_evaluator._evaluate(results_rf)\n",
    "print(f'Random forest classifier F1 score: {f1score_rf}')"
   ]
  },
  {
   "cell_type": "markdown",
   "metadata": {},
   "source": [
    "### Gradient-boosted tree"
   ]
  },
  {
   "cell_type": "code",
   "execution_count": 155,
   "metadata": {},
   "outputs": [
    {
     "name": "stdout",
     "output_type": "stream",
     "text": [
      "Time spent for grid search: 28612.447187900543\n"
     ]
    }
   ],
   "source": [
    "start = time.time()\n",
    "crossvalmodel_gb = crossval_gb.fit(train_plus_val)\n",
    "end = time.time()\n",
    "print(f'Time spent for grid search: {(end-start)}')"
   ]
  },
  {
   "cell_type": "code",
   "execution_count": 156,
   "metadata": {},
   "outputs": [
    {
     "data": {
      "text/html": [
       "<div>\n",
       "<style scoped>\n",
       "    .dataframe tbody tr th:only-of-type {\n",
       "        vertical-align: middle;\n",
       "    }\n",
       "\n",
       "    .dataframe tbody tr th {\n",
       "        vertical-align: top;\n",
       "    }\n",
       "\n",
       "    .dataframe thead th {\n",
       "        text-align: right;\n",
       "    }\n",
       "</style>\n",
       "<table border=\"1\" class=\"dataframe\">\n",
       "  <thead>\n",
       "    <tr style=\"text-align: right;\">\n",
       "      <th></th>\n",
       "      <th>maxDepth</th>\n",
       "      <th>maxIter</th>\n",
       "      <th>score</th>\n",
       "    </tr>\n",
       "  </thead>\n",
       "  <tbody>\n",
       "    <tr>\n",
       "      <th>0</th>\n",
       "      <td>4</td>\n",
       "      <td>20</td>\n",
       "      <td>0.846694</td>\n",
       "    </tr>\n",
       "    <tr>\n",
       "      <th>1</th>\n",
       "      <td>4</td>\n",
       "      <td>100</td>\n",
       "      <td>0.868529</td>\n",
       "    </tr>\n",
       "    <tr>\n",
       "      <th>2</th>\n",
       "      <td>5</td>\n",
       "      <td>20</td>\n",
       "      <td>0.829257</td>\n",
       "    </tr>\n",
       "    <tr>\n",
       "      <th>3</th>\n",
       "      <td>5</td>\n",
       "      <td>100</td>\n",
       "      <td>0.842737</td>\n",
       "    </tr>\n",
       "  </tbody>\n",
       "</table>\n",
       "</div>"
      ],
      "text/plain": [
       "   maxDepth  maxIter     score\n",
       "0         4       20  0.846694\n",
       "1         4      100  0.868529\n",
       "2         5       20  0.829257\n",
       "3         5      100  0.842737"
      ]
     },
     "execution_count": 156,
     "metadata": {},
     "output_type": "execute_result"
    }
   ],
   "source": [
    "# 将分数保存起来\n",
    "scores = crossvalmodel_gb.avgMetrics\n",
    "params = [{p.name: v for p, v in m.items()} for m in crossvalmodel_gb.getEstimatorParamMaps()]\n",
    "params_pd = pd.DataFrame(params)\n",
    "params_pd['score'] = scores\n",
    "params_pd"
   ]
  },
  {
   "cell_type": "code",
   "execution_count": 162,
   "metadata": {},
   "outputs": [
    {
     "name": "stdout",
     "output_type": "stream",
     "text": [
      "Time spent for training: 2203.7798421382904 seconds\n"
     ]
    }
   ],
   "source": [
    "# 使用表现最好的参数进行训练\n",
    "best_gb =  GBTClassifier(maxDepth = 4, maxIter = 100)\n",
    "pipeline_best_gb = Pipeline(stages = [numeric_assembler, scaler, total_assembler, best_gb])\n",
    "\n",
    "start = time.time()\n",
    "model_gb = pipeline_best_gb.fit(train_plus_val)\n",
    "end = time.time()\n",
    "print(f'Time spent for training: {(end-start)} seconds')"
   ]
  },
  {
   "cell_type": "code",
   "execution_count": 163,
   "metadata": {},
   "outputs": [
    {
     "data": {
      "text/html": [
       "<div>\n",
       "<style scoped>\n",
       "    .dataframe tbody tr th:only-of-type {\n",
       "        vertical-align: middle;\n",
       "    }\n",
       "\n",
       "    .dataframe tbody tr th {\n",
       "        vertical-align: top;\n",
       "    }\n",
       "\n",
       "    .dataframe thead th {\n",
       "        text-align: right;\n",
       "    }\n",
       "</style>\n",
       "<table border=\"1\" class=\"dataframe\">\n",
       "  <thead>\n",
       "    <tr style=\"text-align: right;\">\n",
       "      <th></th>\n",
       "      <th>feature</th>\n",
       "      <th>importance</th>\n",
       "    </tr>\n",
       "  </thead>\n",
       "  <tbody>\n",
       "    <tr>\n",
       "      <th>12</th>\n",
       "      <td>trend_songs</td>\n",
       "      <td>0.243301</td>\n",
       "    </tr>\n",
       "    <tr>\n",
       "      <th>8</th>\n",
       "      <td>songratio</td>\n",
       "      <td>0.123965</td>\n",
       "    </tr>\n",
       "    <tr>\n",
       "      <th>2</th>\n",
       "      <td>nsongs_perh</td>\n",
       "      <td>0.111907</td>\n",
       "    </tr>\n",
       "    <tr>\n",
       "      <th>6</th>\n",
       "      <td>nadvert_perh</td>\n",
       "      <td>0.099789</td>\n",
       "    </tr>\n",
       "    <tr>\n",
       "      <th>5</th>\n",
       "      <td>nfriend_perh</td>\n",
       "      <td>0.071654</td>\n",
       "    </tr>\n",
       "    <tr>\n",
       "      <th>3</th>\n",
       "      <td>ntbup_perh</td>\n",
       "      <td>0.069488</td>\n",
       "    </tr>\n",
       "    <tr>\n",
       "      <th>11</th>\n",
       "      <td>updownratio</td>\n",
       "      <td>0.063591</td>\n",
       "    </tr>\n",
       "    <tr>\n",
       "      <th>10</th>\n",
       "      <td>negativeratio</td>\n",
       "      <td>0.043828</td>\n",
       "    </tr>\n",
       "    <tr>\n",
       "      <th>13</th>\n",
       "      <td>avgsessionitems</td>\n",
       "      <td>0.043600</td>\n",
       "    </tr>\n",
       "    <tr>\n",
       "      <th>4</th>\n",
       "      <td>ntbdown_perh</td>\n",
       "      <td>0.040093</td>\n",
       "    </tr>\n",
       "    <tr>\n",
       "      <th>9</th>\n",
       "      <td>positiveratio</td>\n",
       "      <td>0.037872</td>\n",
       "    </tr>\n",
       "    <tr>\n",
       "      <th>14</th>\n",
       "      <td>avgsongs</td>\n",
       "      <td>0.032603</td>\n",
       "    </tr>\n",
       "    <tr>\n",
       "      <th>7</th>\n",
       "      <td>upgradedowngrade</td>\n",
       "      <td>0.013788</td>\n",
       "    </tr>\n",
       "    <tr>\n",
       "      <th>1</th>\n",
       "      <td>gender</td>\n",
       "      <td>0.004411</td>\n",
       "    </tr>\n",
       "    <tr>\n",
       "      <th>0</th>\n",
       "      <td>lastlevel</td>\n",
       "      <td>0.000109</td>\n",
       "    </tr>\n",
       "  </tbody>\n",
       "</table>\n",
       "</div>"
      ],
      "text/plain": [
       "             feature  importance\n",
       "12       trend_songs    0.243301\n",
       "8          songratio    0.123965\n",
       "2        nsongs_perh    0.111907\n",
       "6       nadvert_perh    0.099789\n",
       "5       nfriend_perh    0.071654\n",
       "3         ntbup_perh    0.069488\n",
       "11       updownratio    0.063591\n",
       "10     negativeratio    0.043828\n",
       "13   avgsessionitems    0.043600\n",
       "4       ntbdown_perh    0.040093\n",
       "9      positiveratio    0.037872\n",
       "14          avgsongs    0.032603\n",
       "7   upgradedowngrade    0.013788\n",
       "1             gender    0.004411\n",
       "0          lastlevel    0.000109"
      ]
     },
     "execution_count": 163,
     "metadata": {},
     "output_type": "execute_result"
    }
   ],
   "source": [
    "# 各个feature的importance\n",
    "importances = model_gb.stages[-1].featureImportances\n",
    "importances_list = [importances[i] for i in range(len(importances))]\n",
    "names = binary_columns + numeric_columns\n",
    "pd.DataFrame({\"feature\": names,\"importance\": importances_list, }).sort_values('importance', ascending = False)"
   ]
  },
  {
   "cell_type": "code",
   "execution_count": 164,
   "metadata": {},
   "outputs": [
    {
     "name": "stdout",
     "output_type": "stream",
     "text": [
      "+------+-----+--------------------+--------------------+----------+\n",
      "|userId|label|       rawPrediction|         probability|prediction|\n",
      "+------+-----+--------------------+--------------------+----------+\n",
      "|   138|    0|[1.86709408963622...|[0.97666497383235...|       0.0|\n",
      "|   112|    0|[2.01360720214417...|[0.98248821738080...|       0.0|\n",
      "|200010|    0|[1.37691092169654...|[0.94012883064259...|       0.0|\n",
      "|    34|    0|[1.75839454466810...|[0.97116171317234...|       0.0|\n",
      "|     8|    0|[2.22596072378619...|[0.98847815161789...|       0.0|\n",
      "+------+-----+--------------------+--------------------+----------+\n",
      "only showing top 5 rows\n",
      "\n"
     ]
    }
   ],
   "source": [
    "# 测试集上的结果\n",
    "results_gb = model_gb.transform(test)\n",
    "results_gb.select(['userId','label','rawPrediction','probability','prediction']).show(5)"
   ]
  },
  {
   "cell_type": "code",
   "execution_count": 165,
   "metadata": {},
   "outputs": [
    {
     "name": "stdout",
     "output_type": "stream",
     "text": [
      "Gradient-boosted tree classifier AUC score: 0.846153846153846\n"
     ]
    }
   ],
   "source": [
    "# 测试集上的AUC分数\n",
    "auc_evaluator = BinaryClassificationEvaluator()\n",
    "auc_gb = auc_evaluator.evaluate(results_gb)\n",
    "print(f'Gradient-boosted tree classifier AUC score: {auc_gb}')"
   ]
  },
  {
   "cell_type": "code",
   "execution_count": 166,
   "metadata": {},
   "outputs": [
    {
     "name": "stdout",
     "output_type": "stream",
     "text": [
      "Gradient-boosted tree classifier F1 score: 0.7272672314373989\n"
     ]
    }
   ],
   "source": [
    "# 测试集上的f1 score\n",
    "f1_evaluator = F1score()\n",
    "f1score_gb = f1_evaluator._evaluate(results_gb)\n",
    "print(f'Gradient-boosted tree classifier F1 score: {f1score_gb}')"
   ]
  },
  {
   "cell_type": "markdown",
   "metadata": {},
   "source": [
    "## 对三种方法进行总结\n",
    "|  类型    | Logistic regression| Random Forest     | Gradient-boosted tree     |\n",
    "| ---- | ---- | ---- | ---- |\n",
    "| AUC     |  0.832    | 0.914     | 0.846     |\n",
    "| F1 score     |  0.667    | 0.667     | 0.727     |\n"
   ]
  },
  {
   "cell_type": "markdown",
   "metadata": {},
   "source": [
    "Random Forest具有最高的AUC得分。Gradient-boosted tree具有最高的F1 score。"
   ]
  },
  {
   "cell_type": "markdown",
   "metadata": {},
   "source": [
    "# 最后一步\n",
    "清理你的代码，添加注释和重命名变量，使得代码更易读和易于维护。参考 Spark 项目概述页面和数据科学家毕业项目审阅要求，确保你的项目包含了毕业项目要求的所有内容，并且满足所有审阅要求。记得在 GitHub 代码库里包含一份全面的文档——README文件，以及一个网络应用程序或博客文章。"
   ]
  }
 ],
 "metadata": {
  "kernelspec": {
   "display_name": "Python 3",
   "language": "python",
   "name": "python3"
  },
  "language_info": {
   "codemirror_mode": {
    "name": "ipython",
    "version": 3
   },
   "file_extension": ".py",
   "mimetype": "text/x-python",
   "name": "python",
   "nbconvert_exporter": "python",
   "pygments_lexer": "ipython3",
   "version": "3.7.3"
  }
 },
 "nbformat": 4,
 "nbformat_minor": 2
}
